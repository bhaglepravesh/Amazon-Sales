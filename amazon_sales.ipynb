{
  "cells": [
    {
      "cell_type": "markdown",
      "metadata": {
        "id": "view-in-github",
        "colab_type": "text"
      },
      "source": [
        "<a href=\"https://colab.research.google.com/github/praveshkumarsagar/Amazon-Sales-EDA/blob/main/amazon_sales.ipynb\" target=\"_parent\"><img src=\"https://colab.research.google.com/assets/colab-badge.svg\" alt=\"Open In Colab\"/></a>"
      ]
    },
    {
      "cell_type": "markdown",
      "id": "09082d1e",
      "metadata": {
        "id": "09082d1e"
      },
      "source": [
        "# try to do it using tablue also"
      ]
    },
    {
      "cell_type": "code",
      "source": [
        "from google.colab import drive\n",
        "drive.mount('/content/drive')"
      ],
      "metadata": {
        "colab": {
          "base_uri": "https://localhost:8080/"
        },
        "id": "v48AZ5AF1xr5",
        "outputId": "5c4e96aa-77f5-4d53-9a14-91031f1b55a5"
      },
      "id": "v48AZ5AF1xr5",
      "execution_count": null,
      "outputs": [
        {
          "output_type": "stream",
          "name": "stdout",
          "text": [
            "Mounted at /content/drive\n"
          ]
        }
      ]
    },
    {
      "cell_type": "markdown",
      "id": "11e2dff1",
      "metadata": {
        "id": "11e2dff1"
      },
      "source": [
        "## <font color = Green> Analysis of Amazon Sales\n",
        "\n",
        "<font color = cyan>In this case study we’ll be learning Exploratory Data Analytics with the help of a case study on \"Analysis of Amazon Sales\". This will enable us to understand why EDA is a most important step in the process of Machine Learning."
      ]
    },
    {
      "cell_type": "markdown",
      "id": "71c5160a",
      "metadata": {
        "id": "71c5160a"
      },
      "source": [
        "## <font color = Red> why this project\n",
        "\n",
        "<font color = Green> In this project we will learn different types of analysis which is used by Amazon E-commerce Company In this \n",
        "project we will learn how amazon data analysts analysise the data for more selling of the company when the company is getting \n",
        "the more revenue when sells are less why are the reasons are there by which sales are less or high in  comparison of the last weeks or the last month we will visualise the data pictorially because we humans are very  less intarective or feel boared to read the numbers and words.  for the industry perspective the main motive is to generate the more and more revenue by providing the products to make the people life better and eaiser. That's why this datasets I  choose "
      ]
    },
    {
      "cell_type": "markdown",
      "id": "b1b0a312",
      "metadata": {
        "id": "b1b0a312"
      },
      "source": [
        "##   <font color = Blue>domain\n",
        "\n",
        "<font color = megenta>my project is related to E-commerce  and sales department in which there are a lot of products that are necessory for a life\n",
        "this project relates to different industries also because these products which are selling by amazon that is manufactured by different company or industries"
      ]
    },
    {
      "cell_type": "markdown",
      "id": "e0f4f2f1",
      "metadata": {
        "id": "e0f4f2f1"
      },
      "source": [
        "##  <font color = Darkyellow>Information about dataset\n",
        " <font color = orange>I have considered the Amazon Dataset which contains the many attributes of almost 51290s costumers and this dataset is hosted on Kaggle. The dataset contains 51290 rows and 24 columns variables. Before jumping into building the model, let’s have a look into the variables & their definitions. <br>\n",
        "\n",
        " <font color = brown>'Row ID' -          This is the row id at which number the order get placed <br>\n",
        "'Order ID'  -       This the order id of the order<br>\n",
        "'Order Date' -      This is the order date [01/01/2011 to 31/12/2014]<br>\n",
        "'Delivery Date' -   This is the delivery date at which costumer get their product<br>\n",
        "'Ship Mode'  -      This is the shipping mode Firstclass or Standard class<br>\n",
        "'Customer ID' -     This is the customer id at which customer buy the products<br>\n",
        "'Customer Name'  -  These are the names of the customer<br>\n",
        "'Segment'  -        This is the  segments consumer or homeoffice   <br>\n",
        "'City' -            These are the cities where we have to deliver the products<br>\n",
        "'State'   -         These are the states where we get the orders<br>\n",
        "'Country' -         This is the country<br>\n",
        "     \n",
        "<font color = Darkgreen>'Postal Code'  -    These are the post office code or area code<br>\n",
        "'Market'  -         It tells the market  APAC and  US<br>\n",
        "'Region'            This tells about the area of the customer<br>\n",
        "'Product ID'  -     It tells about the product id<br>\n",
        "'Category'  -       It tells about the category ['Office Supplies', 'Furniture', 'Technology']<br>\n",
        "'Sub-Category'  -   It tells us about the sub-category of the products ['Storage', 'Supplies', 'Paper', 'Furnishings', 'Copiers','Bookcases', 'Appliances', 'Art', 'Accessories', 'Binders','Labels', 'Envelopes', 'Chairs', 'Machines', 'Tables', 'Phones','Fasteners']<br>\n",
        "'Product Name' -    This column provide the product name<br>\n",
        "'Sales'   -         These are the sales price of products in dollors<br>\n",
        "'Quantity'  -       How many products are placed<br>\n",
        "'Discount' -        What is the discount is get by the customer<br>\n",
        "'Profit'   -        This is the profit that is get by the company<br>\n",
        "'Shipping Cost'   - This is the shipping cost that is charged to the customer<br>\n",
        "'Order Priority'  - These are the priority for the time taken by the delivary ['Medium', 'High', 'Critical', 'Low']"
      ]
    },
    {
      "cell_type": "markdown",
      "id": "8507733a",
      "metadata": {
        "id": "8507733a"
      },
      "source": [
        "##   <font color = Darkred>Approach for the solutions\n",
        "\n",
        "<font color = violet>There are some other alternative ways also avialable in the market by which customer can buy their needy product so here this is the challanges that mostly customer buy the products from my websites for doing  this we need to take some good desigion \n",
        "By analysing the data on the basis of bar plot , histogram, boxplot, and rug plot ,distribution plots, like corelation, we can analyse the data and many other solutions too. We can find some awesome insights for takinging the good designs for the growth\n",
        "of our company. this is my over all approach."
      ]
    },
    {
      "cell_type": "markdown",
      "id": "4e0c5ced",
      "metadata": {
        "id": "4e0c5ced"
      },
      "source": [
        "### Importing warning library to ignore the warnings"
      ]
    },
    {
      "cell_type": "code",
      "execution_count": null,
      "id": "cec3f03c",
      "metadata": {
        "id": "cec3f03c"
      },
      "outputs": [],
      "source": [
        "import warnings\n",
        "warnings.filterwarnings(\"ignore\")"
      ]
    },
    {
      "cell_type": "markdown",
      "id": "6f9a82fc",
      "metadata": {
        "id": "6f9a82fc"
      },
      "source": [
        "### Importing numpy to perform numerical operations in Dataset\n",
        "### Importing Pandas to perform analysis and filtering of datafrmae\n",
        "### Importing seaborn and matplotlib for visualisation"
      ]
    },
    {
      "cell_type": "code",
      "execution_count": null,
      "id": "828feb36",
      "metadata": {
        "id": "828feb36"
      },
      "outputs": [],
      "source": [
        "import numpy as np\n",
        "import pandas as pd\n",
        "import seaborn as sn\n",
        "import matplotlib.pyplot as plt"
      ]
    },
    {
      "cell_type": "markdown",
      "id": "a955c077",
      "metadata": {
        "id": "a955c077"
      },
      "source": [
        "### Importing the dataset and storing df variable by using pandas dataframe"
      ]
    },
    {
      "cell_type": "code",
      "execution_count": null,
      "id": "9dae6e13",
      "metadata": {
        "scrolled": true,
        "colab": {
          "base_uri": "https://localhost:8080/",
          "height": 577
        },
        "id": "9dae6e13",
        "outputId": "c948e6ac-7d53-4f8d-f8bc-9996befe3d42"
      },
      "outputs": [
        {
          "output_type": "execute_result",
          "data": {
            "text/plain": [
              "   Row ID         Order ID  Order Date Delivary  Date       Ship Mode  \\\n",
              "0   42433     AG-2011-2040  01-01-2011     06-01-2011  Standard Class   \n",
              "1   22253    IN-2011-47883  01-01-2011     08-01-2011  Standard Class   \n",
              "2   48883     HU-2011-1220  01-01-2011     05-01-2011    Second Class   \n",
              "3   11731  IT-2011-3647632  01-01-2011     05-01-2011    Second Class   \n",
              "4   22255    IN-2011-47883  01-01-2011     08-01-2011  Standard Class   \n",
              "\n",
              "  Customer ID    Customer Name      Segment         City            State  \\\n",
              "0    TB-11280  Toby Braunhardt     Consumer  Constantine      Constantine   \n",
              "1    JH-15985      Joseph Holt     Consumer  Wagga Wagga  New South Wales   \n",
              "2      AT-735    Annie Thurman     Consumer     Budapest         Budapest   \n",
              "3    EM-14140     Eugene Moren  Home Office    Stockholm        Stockholm   \n",
              "4    JH-15985      Joseph Holt     Consumer  Wagga Wagga  New South Wales   \n",
              "\n",
              "   ...        Product ID         Category Sub-Category  \\\n",
              "0  ...  OFF-TEN-10000025  Office Supplies      Storage   \n",
              "1  ...   OFF-SU-10000618  Office Supplies     Supplies   \n",
              "2  ...  OFF-TEN-10001585  Office Supplies      Storage   \n",
              "3  ...   OFF-PA-10001492  Office Supplies        Paper   \n",
              "4  ...   FUR-FU-10003447        Furniture  Furnishings   \n",
              "\n",
              "                  Product Name    Sales Quantity Discount   Profit  \\\n",
              "0          Tenex Lockers, Blue  408.300        2      0.0  106.140   \n",
              "1     Acme Trimmer, High Speed  120.366        3      0.1   36.036   \n",
              "2      Tenex Box, Single Width   66.120        4      0.0   29.640   \n",
              "3  Enermax Note Cards, Premium   44.865        3      0.5  -26.055   \n",
              "4   Eldon Light Bulb, Duo Pack  113.670        5      0.1   37.770   \n",
              "\n",
              "   Shipping Cost  Order Priority  \n",
              "0          35.46          Medium  \n",
              "1           9.72          Medium  \n",
              "2           8.17            High  \n",
              "3           4.82            High  \n",
              "4           4.70          Medium  \n",
              "\n",
              "[5 rows x 24 columns]"
            ],
            "text/html": [
              "\n",
              "  <div id=\"df-e7c740c5-81c1-449e-a951-951fe0815caf\">\n",
              "    <div class=\"colab-df-container\">\n",
              "      <div>\n",
              "<style scoped>\n",
              "    .dataframe tbody tr th:only-of-type {\n",
              "        vertical-align: middle;\n",
              "    }\n",
              "\n",
              "    .dataframe tbody tr th {\n",
              "        vertical-align: top;\n",
              "    }\n",
              "\n",
              "    .dataframe thead th {\n",
              "        text-align: right;\n",
              "    }\n",
              "</style>\n",
              "<table border=\"1\" class=\"dataframe\">\n",
              "  <thead>\n",
              "    <tr style=\"text-align: right;\">\n",
              "      <th></th>\n",
              "      <th>Row ID</th>\n",
              "      <th>Order ID</th>\n",
              "      <th>Order Date</th>\n",
              "      <th>Delivary  Date</th>\n",
              "      <th>Ship Mode</th>\n",
              "      <th>Customer ID</th>\n",
              "      <th>Customer Name</th>\n",
              "      <th>Segment</th>\n",
              "      <th>City</th>\n",
              "      <th>State</th>\n",
              "      <th>...</th>\n",
              "      <th>Product ID</th>\n",
              "      <th>Category</th>\n",
              "      <th>Sub-Category</th>\n",
              "      <th>Product Name</th>\n",
              "      <th>Sales</th>\n",
              "      <th>Quantity</th>\n",
              "      <th>Discount</th>\n",
              "      <th>Profit</th>\n",
              "      <th>Shipping Cost</th>\n",
              "      <th>Order Priority</th>\n",
              "    </tr>\n",
              "  </thead>\n",
              "  <tbody>\n",
              "    <tr>\n",
              "      <th>0</th>\n",
              "      <td>42433</td>\n",
              "      <td>AG-2011-2040</td>\n",
              "      <td>01-01-2011</td>\n",
              "      <td>06-01-2011</td>\n",
              "      <td>Standard Class</td>\n",
              "      <td>TB-11280</td>\n",
              "      <td>Toby Braunhardt</td>\n",
              "      <td>Consumer</td>\n",
              "      <td>Constantine</td>\n",
              "      <td>Constantine</td>\n",
              "      <td>...</td>\n",
              "      <td>OFF-TEN-10000025</td>\n",
              "      <td>Office Supplies</td>\n",
              "      <td>Storage</td>\n",
              "      <td>Tenex Lockers, Blue</td>\n",
              "      <td>408.300</td>\n",
              "      <td>2</td>\n",
              "      <td>0.0</td>\n",
              "      <td>106.140</td>\n",
              "      <td>35.46</td>\n",
              "      <td>Medium</td>\n",
              "    </tr>\n",
              "    <tr>\n",
              "      <th>1</th>\n",
              "      <td>22253</td>\n",
              "      <td>IN-2011-47883</td>\n",
              "      <td>01-01-2011</td>\n",
              "      <td>08-01-2011</td>\n",
              "      <td>Standard Class</td>\n",
              "      <td>JH-15985</td>\n",
              "      <td>Joseph Holt</td>\n",
              "      <td>Consumer</td>\n",
              "      <td>Wagga Wagga</td>\n",
              "      <td>New South Wales</td>\n",
              "      <td>...</td>\n",
              "      <td>OFF-SU-10000618</td>\n",
              "      <td>Office Supplies</td>\n",
              "      <td>Supplies</td>\n",
              "      <td>Acme Trimmer, High Speed</td>\n",
              "      <td>120.366</td>\n",
              "      <td>3</td>\n",
              "      <td>0.1</td>\n",
              "      <td>36.036</td>\n",
              "      <td>9.72</td>\n",
              "      <td>Medium</td>\n",
              "    </tr>\n",
              "    <tr>\n",
              "      <th>2</th>\n",
              "      <td>48883</td>\n",
              "      <td>HU-2011-1220</td>\n",
              "      <td>01-01-2011</td>\n",
              "      <td>05-01-2011</td>\n",
              "      <td>Second Class</td>\n",
              "      <td>AT-735</td>\n",
              "      <td>Annie Thurman</td>\n",
              "      <td>Consumer</td>\n",
              "      <td>Budapest</td>\n",
              "      <td>Budapest</td>\n",
              "      <td>...</td>\n",
              "      <td>OFF-TEN-10001585</td>\n",
              "      <td>Office Supplies</td>\n",
              "      <td>Storage</td>\n",
              "      <td>Tenex Box, Single Width</td>\n",
              "      <td>66.120</td>\n",
              "      <td>4</td>\n",
              "      <td>0.0</td>\n",
              "      <td>29.640</td>\n",
              "      <td>8.17</td>\n",
              "      <td>High</td>\n",
              "    </tr>\n",
              "    <tr>\n",
              "      <th>3</th>\n",
              "      <td>11731</td>\n",
              "      <td>IT-2011-3647632</td>\n",
              "      <td>01-01-2011</td>\n",
              "      <td>05-01-2011</td>\n",
              "      <td>Second Class</td>\n",
              "      <td>EM-14140</td>\n",
              "      <td>Eugene Moren</td>\n",
              "      <td>Home Office</td>\n",
              "      <td>Stockholm</td>\n",
              "      <td>Stockholm</td>\n",
              "      <td>...</td>\n",
              "      <td>OFF-PA-10001492</td>\n",
              "      <td>Office Supplies</td>\n",
              "      <td>Paper</td>\n",
              "      <td>Enermax Note Cards, Premium</td>\n",
              "      <td>44.865</td>\n",
              "      <td>3</td>\n",
              "      <td>0.5</td>\n",
              "      <td>-26.055</td>\n",
              "      <td>4.82</td>\n",
              "      <td>High</td>\n",
              "    </tr>\n",
              "    <tr>\n",
              "      <th>4</th>\n",
              "      <td>22255</td>\n",
              "      <td>IN-2011-47883</td>\n",
              "      <td>01-01-2011</td>\n",
              "      <td>08-01-2011</td>\n",
              "      <td>Standard Class</td>\n",
              "      <td>JH-15985</td>\n",
              "      <td>Joseph Holt</td>\n",
              "      <td>Consumer</td>\n",
              "      <td>Wagga Wagga</td>\n",
              "      <td>New South Wales</td>\n",
              "      <td>...</td>\n",
              "      <td>FUR-FU-10003447</td>\n",
              "      <td>Furniture</td>\n",
              "      <td>Furnishings</td>\n",
              "      <td>Eldon Light Bulb, Duo Pack</td>\n",
              "      <td>113.670</td>\n",
              "      <td>5</td>\n",
              "      <td>0.1</td>\n",
              "      <td>37.770</td>\n",
              "      <td>4.70</td>\n",
              "      <td>Medium</td>\n",
              "    </tr>\n",
              "  </tbody>\n",
              "</table>\n",
              "<p>5 rows × 24 columns</p>\n",
              "</div>\n",
              "      <button class=\"colab-df-convert\" onclick=\"convertToInteractive('df-e7c740c5-81c1-449e-a951-951fe0815caf')\"\n",
              "              title=\"Convert this dataframe to an interactive table.\"\n",
              "              style=\"display:none;\">\n",
              "        \n",
              "  <svg xmlns=\"http://www.w3.org/2000/svg\" height=\"24px\"viewBox=\"0 0 24 24\"\n",
              "       width=\"24px\">\n",
              "    <path d=\"M0 0h24v24H0V0z\" fill=\"none\"/>\n",
              "    <path d=\"M18.56 5.44l.94 2.06.94-2.06 2.06-.94-2.06-.94-.94-2.06-.94 2.06-2.06.94zm-11 1L8.5 8.5l.94-2.06 2.06-.94-2.06-.94L8.5 2.5l-.94 2.06-2.06.94zm10 10l.94 2.06.94-2.06 2.06-.94-2.06-.94-.94-2.06-.94 2.06-2.06.94z\"/><path d=\"M17.41 7.96l-1.37-1.37c-.4-.4-.92-.59-1.43-.59-.52 0-1.04.2-1.43.59L10.3 9.45l-7.72 7.72c-.78.78-.78 2.05 0 2.83L4 21.41c.39.39.9.59 1.41.59.51 0 1.02-.2 1.41-.59l7.78-7.78 2.81-2.81c.8-.78.8-2.07 0-2.86zM5.41 20L4 18.59l7.72-7.72 1.47 1.35L5.41 20z\"/>\n",
              "  </svg>\n",
              "      </button>\n",
              "      \n",
              "  <style>\n",
              "    .colab-df-container {\n",
              "      display:flex;\n",
              "      flex-wrap:wrap;\n",
              "      gap: 12px;\n",
              "    }\n",
              "\n",
              "    .colab-df-convert {\n",
              "      background-color: #E8F0FE;\n",
              "      border: none;\n",
              "      border-radius: 50%;\n",
              "      cursor: pointer;\n",
              "      display: none;\n",
              "      fill: #1967D2;\n",
              "      height: 32px;\n",
              "      padding: 0 0 0 0;\n",
              "      width: 32px;\n",
              "    }\n",
              "\n",
              "    .colab-df-convert:hover {\n",
              "      background-color: #E2EBFA;\n",
              "      box-shadow: 0px 1px 2px rgba(60, 64, 67, 0.3), 0px 1px 3px 1px rgba(60, 64, 67, 0.15);\n",
              "      fill: #174EA6;\n",
              "    }\n",
              "\n",
              "    [theme=dark] .colab-df-convert {\n",
              "      background-color: #3B4455;\n",
              "      fill: #D2E3FC;\n",
              "    }\n",
              "\n",
              "    [theme=dark] .colab-df-convert:hover {\n",
              "      background-color: #434B5C;\n",
              "      box-shadow: 0px 1px 3px 1px rgba(0, 0, 0, 0.15);\n",
              "      filter: drop-shadow(0px 1px 2px rgba(0, 0, 0, 0.3));\n",
              "      fill: #FFFFFF;\n",
              "    }\n",
              "  </style>\n",
              "\n",
              "      <script>\n",
              "        const buttonEl =\n",
              "          document.querySelector('#df-e7c740c5-81c1-449e-a951-951fe0815caf button.colab-df-convert');\n",
              "        buttonEl.style.display =\n",
              "          google.colab.kernel.accessAllowed ? 'block' : 'none';\n",
              "\n",
              "        async function convertToInteractive(key) {\n",
              "          const element = document.querySelector('#df-e7c740c5-81c1-449e-a951-951fe0815caf');\n",
              "          const dataTable =\n",
              "            await google.colab.kernel.invokeFunction('convertToInteractive',\n",
              "                                                     [key], {});\n",
              "          if (!dataTable) return;\n",
              "\n",
              "          const docLinkHtml = 'Like what you see? Visit the ' +\n",
              "            '<a target=\"_blank\" href=https://colab.research.google.com/notebooks/data_table.ipynb>data table notebook</a>'\n",
              "            + ' to learn more about interactive tables.';\n",
              "          element.innerHTML = '';\n",
              "          dataTable['output_type'] = 'display_data';\n",
              "          await google.colab.output.renderOutput(dataTable, element);\n",
              "          const docLink = document.createElement('div');\n",
              "          docLink.innerHTML = docLinkHtml;\n",
              "          element.appendChild(docLink);\n",
              "        }\n",
              "      </script>\n",
              "    </div>\n",
              "  </div>\n",
              "  "
            ]
          },
          "metadata": {},
          "execution_count": 4
        }
      ],
      "source": [
        "df=pd.read_csv(\"/content/drive/MyDrive/Colab Notebooks/amazon_dataset2011-2015.csv\")\n",
        "# displaying top 5 rows of my dataset\n",
        "df.head()"
      ]
    },
    {
      "cell_type": "markdown",
      "id": "606e7805",
      "metadata": {
        "id": "606e7805"
      },
      "source": [
        "Here we are not able to retrieve the whole column variable because we can say this after looking desh(.....) in between the columns so we will increase the size of column 20 to 24 because our dataset have 24 column variable , we will not increase the size of displaying of row 60 to anything else because there is not such need."
      ]
    },
    {
      "cell_type": "code",
      "execution_count": null,
      "id": "4548151d",
      "metadata": {
        "id": "4548151d"
      },
      "outputs": [],
      "source": [
        "pd.options.display.max_columns=len(df.columns)"
      ]
    },
    {
      "cell_type": "code",
      "execution_count": null,
      "id": "1c34ef54",
      "metadata": {
        "id": "1c34ef54",
        "outputId": "02d43f40-8872-4640-e795-80444c2d1815"
      },
      "outputs": [
        {
          "data": {
            "text/html": [
              "<div>\n",
              "<style scoped>\n",
              "    .dataframe tbody tr th:only-of-type {\n",
              "        vertical-align: middle;\n",
              "    }\n",
              "\n",
              "    .dataframe tbody tr th {\n",
              "        vertical-align: top;\n",
              "    }\n",
              "\n",
              "    .dataframe thead th {\n",
              "        text-align: right;\n",
              "    }\n",
              "</style>\n",
              "<table border=\"1\" class=\"dataframe\">\n",
              "  <thead>\n",
              "    <tr style=\"text-align: right;\">\n",
              "      <th></th>\n",
              "      <th>Row ID</th>\n",
              "      <th>Order ID</th>\n",
              "      <th>Order Date</th>\n",
              "      <th>Delivary  Date</th>\n",
              "      <th>Ship Mode</th>\n",
              "      <th>Customer ID</th>\n",
              "      <th>Customer Name</th>\n",
              "      <th>Segment</th>\n",
              "      <th>City</th>\n",
              "      <th>State</th>\n",
              "      <th>Country</th>\n",
              "      <th>Postal Code</th>\n",
              "      <th>Market</th>\n",
              "      <th>Region</th>\n",
              "      <th>Product ID</th>\n",
              "      <th>Category</th>\n",
              "      <th>Sub-Category</th>\n",
              "      <th>Product Name</th>\n",
              "      <th>Sales</th>\n",
              "      <th>Quantity</th>\n",
              "      <th>Discount</th>\n",
              "      <th>Profit</th>\n",
              "      <th>Shipping Cost</th>\n",
              "      <th>Order Priority</th>\n",
              "    </tr>\n",
              "  </thead>\n",
              "  <tbody>\n",
              "    <tr>\n",
              "      <th>0</th>\n",
              "      <td>42433</td>\n",
              "      <td>AG-2011-2040</td>\n",
              "      <td>01-01-2011</td>\n",
              "      <td>06-01-2011</td>\n",
              "      <td>Standard Class</td>\n",
              "      <td>TB-11280</td>\n",
              "      <td>Toby Braunhardt</td>\n",
              "      <td>Consumer</td>\n",
              "      <td>Constantine</td>\n",
              "      <td>Constantine</td>\n",
              "      <td>Algeria</td>\n",
              "      <td>NaN</td>\n",
              "      <td>Africa</td>\n",
              "      <td>Africa</td>\n",
              "      <td>OFF-TEN-10000025</td>\n",
              "      <td>Office Supplies</td>\n",
              "      <td>Storage</td>\n",
              "      <td>Tenex Lockers, Blue</td>\n",
              "      <td>408.300</td>\n",
              "      <td>2</td>\n",
              "      <td>0.0</td>\n",
              "      <td>106.140</td>\n",
              "      <td>35.46</td>\n",
              "      <td>Medium</td>\n",
              "    </tr>\n",
              "    <tr>\n",
              "      <th>1</th>\n",
              "      <td>22253</td>\n",
              "      <td>IN-2011-47883</td>\n",
              "      <td>01-01-2011</td>\n",
              "      <td>08-01-2011</td>\n",
              "      <td>Standard Class</td>\n",
              "      <td>JH-15985</td>\n",
              "      <td>Joseph Holt</td>\n",
              "      <td>Consumer</td>\n",
              "      <td>Wagga Wagga</td>\n",
              "      <td>New South Wales</td>\n",
              "      <td>Australia</td>\n",
              "      <td>NaN</td>\n",
              "      <td>APAC</td>\n",
              "      <td>Oceania</td>\n",
              "      <td>OFF-SU-10000618</td>\n",
              "      <td>Office Supplies</td>\n",
              "      <td>Supplies</td>\n",
              "      <td>Acme Trimmer, High Speed</td>\n",
              "      <td>120.366</td>\n",
              "      <td>3</td>\n",
              "      <td>0.1</td>\n",
              "      <td>36.036</td>\n",
              "      <td>9.72</td>\n",
              "      <td>Medium</td>\n",
              "    </tr>\n",
              "    <tr>\n",
              "      <th>2</th>\n",
              "      <td>48883</td>\n",
              "      <td>HU-2011-1220</td>\n",
              "      <td>01-01-2011</td>\n",
              "      <td>05-01-2011</td>\n",
              "      <td>Second Class</td>\n",
              "      <td>AT-735</td>\n",
              "      <td>Annie Thurman</td>\n",
              "      <td>Consumer</td>\n",
              "      <td>Budapest</td>\n",
              "      <td>Budapest</td>\n",
              "      <td>Hungary</td>\n",
              "      <td>NaN</td>\n",
              "      <td>EMEA</td>\n",
              "      <td>EMEA</td>\n",
              "      <td>OFF-TEN-10001585</td>\n",
              "      <td>Office Supplies</td>\n",
              "      <td>Storage</td>\n",
              "      <td>Tenex Box, Single Width</td>\n",
              "      <td>66.120</td>\n",
              "      <td>4</td>\n",
              "      <td>0.0</td>\n",
              "      <td>29.640</td>\n",
              "      <td>8.17</td>\n",
              "      <td>High</td>\n",
              "    </tr>\n",
              "    <tr>\n",
              "      <th>3</th>\n",
              "      <td>11731</td>\n",
              "      <td>IT-2011-3647632</td>\n",
              "      <td>01-01-2011</td>\n",
              "      <td>05-01-2011</td>\n",
              "      <td>Second Class</td>\n",
              "      <td>EM-14140</td>\n",
              "      <td>Eugene Moren</td>\n",
              "      <td>Home Office</td>\n",
              "      <td>Stockholm</td>\n",
              "      <td>Stockholm</td>\n",
              "      <td>Sweden</td>\n",
              "      <td>NaN</td>\n",
              "      <td>EU</td>\n",
              "      <td>North</td>\n",
              "      <td>OFF-PA-10001492</td>\n",
              "      <td>Office Supplies</td>\n",
              "      <td>Paper</td>\n",
              "      <td>Enermax Note Cards, Premium</td>\n",
              "      <td>44.865</td>\n",
              "      <td>3</td>\n",
              "      <td>0.5</td>\n",
              "      <td>-26.055</td>\n",
              "      <td>4.82</td>\n",
              "      <td>High</td>\n",
              "    </tr>\n",
              "    <tr>\n",
              "      <th>4</th>\n",
              "      <td>22255</td>\n",
              "      <td>IN-2011-47883</td>\n",
              "      <td>01-01-2011</td>\n",
              "      <td>08-01-2011</td>\n",
              "      <td>Standard Class</td>\n",
              "      <td>JH-15985</td>\n",
              "      <td>Joseph Holt</td>\n",
              "      <td>Consumer</td>\n",
              "      <td>Wagga Wagga</td>\n",
              "      <td>New South Wales</td>\n",
              "      <td>Australia</td>\n",
              "      <td>NaN</td>\n",
              "      <td>APAC</td>\n",
              "      <td>Oceania</td>\n",
              "      <td>FUR-FU-10003447</td>\n",
              "      <td>Furniture</td>\n",
              "      <td>Furnishings</td>\n",
              "      <td>Eldon Light Bulb, Duo Pack</td>\n",
              "      <td>113.670</td>\n",
              "      <td>5</td>\n",
              "      <td>0.1</td>\n",
              "      <td>37.770</td>\n",
              "      <td>4.70</td>\n",
              "      <td>Medium</td>\n",
              "    </tr>\n",
              "  </tbody>\n",
              "</table>\n",
              "</div>"
            ],
            "text/plain": [
              "   Row ID         Order ID  Order Date Delivary  Date       Ship Mode  \\\n",
              "0   42433     AG-2011-2040  01-01-2011     06-01-2011  Standard Class   \n",
              "1   22253    IN-2011-47883  01-01-2011     08-01-2011  Standard Class   \n",
              "2   48883     HU-2011-1220  01-01-2011     05-01-2011    Second Class   \n",
              "3   11731  IT-2011-3647632  01-01-2011     05-01-2011    Second Class   \n",
              "4   22255    IN-2011-47883  01-01-2011     08-01-2011  Standard Class   \n",
              "\n",
              "  Customer ID    Customer Name      Segment         City            State  \\\n",
              "0    TB-11280  Toby Braunhardt     Consumer  Constantine      Constantine   \n",
              "1    JH-15985      Joseph Holt     Consumer  Wagga Wagga  New South Wales   \n",
              "2      AT-735    Annie Thurman     Consumer     Budapest         Budapest   \n",
              "3    EM-14140     Eugene Moren  Home Office    Stockholm        Stockholm   \n",
              "4    JH-15985      Joseph Holt     Consumer  Wagga Wagga  New South Wales   \n",
              "\n",
              "     Country  Postal Code  Market   Region        Product ID         Category  \\\n",
              "0    Algeria          NaN  Africa   Africa  OFF-TEN-10000025  Office Supplies   \n",
              "1  Australia          NaN    APAC  Oceania   OFF-SU-10000618  Office Supplies   \n",
              "2    Hungary          NaN    EMEA     EMEA  OFF-TEN-10001585  Office Supplies   \n",
              "3     Sweden          NaN      EU    North   OFF-PA-10001492  Office Supplies   \n",
              "4  Australia          NaN    APAC  Oceania   FUR-FU-10003447        Furniture   \n",
              "\n",
              "  Sub-Category                 Product Name    Sales  Quantity  Discount  \\\n",
              "0      Storage          Tenex Lockers, Blue  408.300         2       0.0   \n",
              "1     Supplies     Acme Trimmer, High Speed  120.366         3       0.1   \n",
              "2      Storage      Tenex Box, Single Width   66.120         4       0.0   \n",
              "3        Paper  Enermax Note Cards, Premium   44.865         3       0.5   \n",
              "4  Furnishings   Eldon Light Bulb, Duo Pack  113.670         5       0.1   \n",
              "\n",
              "    Profit  Shipping Cost Order Priority  \n",
              "0  106.140          35.46         Medium  \n",
              "1   36.036           9.72         Medium  \n",
              "2   29.640           8.17           High  \n",
              "3  -26.055           4.82           High  \n",
              "4   37.770           4.70         Medium  "
            ]
          },
          "execution_count": 5,
          "metadata": {},
          "output_type": "execute_result"
        }
      ],
      "source": [
        "df.head()"
      ]
    },
    {
      "cell_type": "markdown",
      "id": "27f71235",
      "metadata": {
        "id": "27f71235"
      },
      "source": [
        "now we are able to see all  column variable"
      ]
    },
    {
      "cell_type": "markdown",
      "id": "56d3a013",
      "metadata": {
        "id": "56d3a013"
      },
      "source": [
        "#### retrieve the last five rows"
      ]
    },
    {
      "cell_type": "code",
      "execution_count": null,
      "id": "2657f3ed",
      "metadata": {
        "id": "2657f3ed",
        "outputId": "db74e5fc-9a23-4902-d2f5-cf14d1f6d7f7"
      },
      "outputs": [
        {
          "data": {
            "text/html": [
              "<div>\n",
              "<style scoped>\n",
              "    .dataframe tbody tr th:only-of-type {\n",
              "        vertical-align: middle;\n",
              "    }\n",
              "\n",
              "    .dataframe tbody tr th {\n",
              "        vertical-align: top;\n",
              "    }\n",
              "\n",
              "    .dataframe thead th {\n",
              "        text-align: right;\n",
              "    }\n",
              "</style>\n",
              "<table border=\"1\" class=\"dataframe\">\n",
              "  <thead>\n",
              "    <tr style=\"text-align: right;\">\n",
              "      <th></th>\n",
              "      <th>Row ID</th>\n",
              "      <th>Order ID</th>\n",
              "      <th>Order Date</th>\n",
              "      <th>Delivary  Date</th>\n",
              "      <th>Ship Mode</th>\n",
              "      <th>Customer ID</th>\n",
              "      <th>Customer Name</th>\n",
              "      <th>Segment</th>\n",
              "      <th>City</th>\n",
              "      <th>State</th>\n",
              "      <th>Country</th>\n",
              "      <th>Postal Code</th>\n",
              "      <th>Market</th>\n",
              "      <th>Region</th>\n",
              "      <th>Product ID</th>\n",
              "      <th>Category</th>\n",
              "      <th>Sub-Category</th>\n",
              "      <th>Product Name</th>\n",
              "      <th>Sales</th>\n",
              "      <th>Quantity</th>\n",
              "      <th>Discount</th>\n",
              "      <th>Profit</th>\n",
              "      <th>Shipping Cost</th>\n",
              "      <th>Order Priority</th>\n",
              "    </tr>\n",
              "  </thead>\n",
              "  <tbody>\n",
              "    <tr>\n",
              "      <th>51285</th>\n",
              "      <td>32593</td>\n",
              "      <td>CA-2014-115427</td>\n",
              "      <td>31-12-2014</td>\n",
              "      <td>04-01-2015</td>\n",
              "      <td>Standard Class</td>\n",
              "      <td>EB-13975</td>\n",
              "      <td>Erica Bern</td>\n",
              "      <td>Corporate</td>\n",
              "      <td>Fairfield</td>\n",
              "      <td>California</td>\n",
              "      <td>United States</td>\n",
              "      <td>94533.0</td>\n",
              "      <td>US</td>\n",
              "      <td>West</td>\n",
              "      <td>OFF-BI-10002103</td>\n",
              "      <td>Office Supplies</td>\n",
              "      <td>Binders</td>\n",
              "      <td>Cardinal Slant-D Ring Binder, Heavy Gauge Vinyl</td>\n",
              "      <td>13.904</td>\n",
              "      <td>2</td>\n",
              "      <td>0.2</td>\n",
              "      <td>4.5188</td>\n",
              "      <td>0.89</td>\n",
              "      <td>Medium</td>\n",
              "    </tr>\n",
              "    <tr>\n",
              "      <th>51286</th>\n",
              "      <td>47594</td>\n",
              "      <td>MO-2014-2560</td>\n",
              "      <td>31-12-2014</td>\n",
              "      <td>05-01-2015</td>\n",
              "      <td>Standard Class</td>\n",
              "      <td>LP-7095</td>\n",
              "      <td>Liz Preis</td>\n",
              "      <td>Consumer</td>\n",
              "      <td>Agadir</td>\n",
              "      <td>Souss-Massa-Draâ</td>\n",
              "      <td>Morocco</td>\n",
              "      <td>NaN</td>\n",
              "      <td>Africa</td>\n",
              "      <td>Africa</td>\n",
              "      <td>OFF-WIL-10001069</td>\n",
              "      <td>Office Supplies</td>\n",
              "      <td>Binders</td>\n",
              "      <td>Wilson Jones Hole Reinforcements, Clear</td>\n",
              "      <td>3.990</td>\n",
              "      <td>1</td>\n",
              "      <td>0.0</td>\n",
              "      <td>0.4200</td>\n",
              "      <td>0.49</td>\n",
              "      <td>Medium</td>\n",
              "    </tr>\n",
              "    <tr>\n",
              "      <th>51287</th>\n",
              "      <td>8857</td>\n",
              "      <td>MX-2014-110527</td>\n",
              "      <td>31-12-2014</td>\n",
              "      <td>02-01-2015</td>\n",
              "      <td>Second Class</td>\n",
              "      <td>CM-12190</td>\n",
              "      <td>Charlotte Melton</td>\n",
              "      <td>Consumer</td>\n",
              "      <td>Managua</td>\n",
              "      <td>Managua</td>\n",
              "      <td>Nicaragua</td>\n",
              "      <td>NaN</td>\n",
              "      <td>LATAM</td>\n",
              "      <td>Central</td>\n",
              "      <td>OFF-LA-10004182</td>\n",
              "      <td>Office Supplies</td>\n",
              "      <td>Labels</td>\n",
              "      <td>Hon Color Coded Labels, 5000 Label Set</td>\n",
              "      <td>26.400</td>\n",
              "      <td>3</td>\n",
              "      <td>0.0</td>\n",
              "      <td>12.3600</td>\n",
              "      <td>0.35</td>\n",
              "      <td>Medium</td>\n",
              "    </tr>\n",
              "    <tr>\n",
              "      <th>51288</th>\n",
              "      <td>6852</td>\n",
              "      <td>MX-2014-114783</td>\n",
              "      <td>31-12-2014</td>\n",
              "      <td>06-01-2015</td>\n",
              "      <td>Standard Class</td>\n",
              "      <td>TD-20995</td>\n",
              "      <td>Tamara Dahlen</td>\n",
              "      <td>Consumer</td>\n",
              "      <td>Juárez</td>\n",
              "      <td>Chihuahua</td>\n",
              "      <td>Mexico</td>\n",
              "      <td>NaN</td>\n",
              "      <td>LATAM</td>\n",
              "      <td>North</td>\n",
              "      <td>OFF-LA-10000413</td>\n",
              "      <td>Office Supplies</td>\n",
              "      <td>Labels</td>\n",
              "      <td>Hon Legal Exhibit Labels, Alphabetical</td>\n",
              "      <td>7.120</td>\n",
              "      <td>1</td>\n",
              "      <td>0.0</td>\n",
              "      <td>0.5600</td>\n",
              "      <td>0.20</td>\n",
              "      <td>Medium</td>\n",
              "    </tr>\n",
              "    <tr>\n",
              "      <th>51289</th>\n",
              "      <td>36388</td>\n",
              "      <td>CA-2014-156720</td>\n",
              "      <td>31-12-2014</td>\n",
              "      <td>04-01-2015</td>\n",
              "      <td>Standard Class</td>\n",
              "      <td>JM-15580</td>\n",
              "      <td>Jill Matthias</td>\n",
              "      <td>Consumer</td>\n",
              "      <td>Loveland</td>\n",
              "      <td>Colorado</td>\n",
              "      <td>United States</td>\n",
              "      <td>80538.0</td>\n",
              "      <td>US</td>\n",
              "      <td>West</td>\n",
              "      <td>OFF-FA-10003472</td>\n",
              "      <td>Office Supplies</td>\n",
              "      <td>Fasteners</td>\n",
              "      <td>Bagged Rubber Bands</td>\n",
              "      <td>3.024</td>\n",
              "      <td>3</td>\n",
              "      <td>0.2</td>\n",
              "      <td>-0.6048</td>\n",
              "      <td>0.17</td>\n",
              "      <td>Medium</td>\n",
              "    </tr>\n",
              "  </tbody>\n",
              "</table>\n",
              "</div>"
            ],
            "text/plain": [
              "       Row ID        Order ID  Order Date Delivary  Date       Ship Mode  \\\n",
              "51285   32593  CA-2014-115427  31-12-2014     04-01-2015  Standard Class   \n",
              "51286   47594    MO-2014-2560  31-12-2014     05-01-2015  Standard Class   \n",
              "51287    8857  MX-2014-110527  31-12-2014     02-01-2015    Second Class   \n",
              "51288    6852  MX-2014-114783  31-12-2014     06-01-2015  Standard Class   \n",
              "51289   36388  CA-2014-156720  31-12-2014     04-01-2015  Standard Class   \n",
              "\n",
              "      Customer ID     Customer Name    Segment       City             State  \\\n",
              "51285    EB-13975        Erica Bern  Corporate  Fairfield        California   \n",
              "51286     LP-7095         Liz Preis   Consumer     Agadir  Souss-Massa-Draâ   \n",
              "51287    CM-12190  Charlotte Melton   Consumer    Managua           Managua   \n",
              "51288    TD-20995     Tamara Dahlen   Consumer     Juárez         Chihuahua   \n",
              "51289    JM-15580     Jill Matthias   Consumer   Loveland          Colorado   \n",
              "\n",
              "             Country  Postal Code  Market   Region        Product ID  \\\n",
              "51285  United States      94533.0      US     West   OFF-BI-10002103   \n",
              "51286        Morocco          NaN  Africa   Africa  OFF-WIL-10001069   \n",
              "51287      Nicaragua          NaN   LATAM  Central   OFF-LA-10004182   \n",
              "51288         Mexico          NaN   LATAM    North   OFF-LA-10000413   \n",
              "51289  United States      80538.0      US     West   OFF-FA-10003472   \n",
              "\n",
              "              Category Sub-Category  \\\n",
              "51285  Office Supplies      Binders   \n",
              "51286  Office Supplies      Binders   \n",
              "51287  Office Supplies       Labels   \n",
              "51288  Office Supplies       Labels   \n",
              "51289  Office Supplies    Fasteners   \n",
              "\n",
              "                                          Product Name   Sales  Quantity  \\\n",
              "51285  Cardinal Slant-D Ring Binder, Heavy Gauge Vinyl  13.904         2   \n",
              "51286          Wilson Jones Hole Reinforcements, Clear   3.990         1   \n",
              "51287           Hon Color Coded Labels, 5000 Label Set  26.400         3   \n",
              "51288           Hon Legal Exhibit Labels, Alphabetical   7.120         1   \n",
              "51289                              Bagged Rubber Bands   3.024         3   \n",
              "\n",
              "       Discount   Profit  Shipping Cost Order Priority  \n",
              "51285       0.2   4.5188           0.89         Medium  \n",
              "51286       0.0   0.4200           0.49         Medium  \n",
              "51287       0.0  12.3600           0.35         Medium  \n",
              "51288       0.0   0.5600           0.20         Medium  \n",
              "51289       0.2  -0.6048           0.17         Medium  "
            ]
          },
          "execution_count": 6,
          "metadata": {},
          "output_type": "execute_result"
        }
      ],
      "source": [
        "df.tail()"
      ]
    },
    {
      "cell_type": "markdown",
      "id": "24126481",
      "metadata": {
        "id": "24126481"
      },
      "source": [
        "Here we can see last five rows of our datasets"
      ]
    },
    {
      "cell_type": "code",
      "execution_count": null,
      "id": "8922aae6",
      "metadata": {
        "id": "8922aae6",
        "outputId": "75509ec6-8cb2-4bd2-f607-86cea9397eab"
      },
      "outputs": [
        {
          "data": {
            "text/plain": [
              "(51290, 24)"
            ]
          },
          "execution_count": 7,
          "metadata": {},
          "output_type": "execute_result"
        }
      ],
      "source": [
        "df.shape "
      ]
    },
    {
      "cell_type": "markdown",
      "id": "08a37dbc",
      "metadata": {
        "id": "08a37dbc"
      },
      "source": [
        " our dataset countains 51290 rows and 24 column "
      ]
    },
    {
      "cell_type": "markdown",
      "id": "938273dd",
      "metadata": {
        "id": "938273dd"
      },
      "source": [
        "#### displaying the information of dataset"
      ]
    },
    {
      "cell_type": "code",
      "execution_count": null,
      "id": "104f6625",
      "metadata": {
        "id": "104f6625",
        "outputId": "7285be60-74aa-4be4-8b2a-5b5fc4a75c54"
      },
      "outputs": [
        {
          "name": "stdout",
          "output_type": "stream",
          "text": [
            "<class 'pandas.core.frame.DataFrame'>\n",
            "RangeIndex: 51290 entries, 0 to 51289\n",
            "Data columns (total 24 columns):\n",
            " #   Column          Non-Null Count  Dtype  \n",
            "---  ------          --------------  -----  \n",
            " 0   Row ID          51290 non-null  int64  \n",
            " 1   Order ID        51290 non-null  object \n",
            " 2   Order Date      51290 non-null  object \n",
            " 3   Delivary  Date  51290 non-null  object \n",
            " 4   Ship Mode       51290 non-null  object \n",
            " 5   Customer ID     51290 non-null  object \n",
            " 6   Customer Name   51290 non-null  object \n",
            " 7   Segment         51290 non-null  object \n",
            " 8   City            51290 non-null  object \n",
            " 9   State           51290 non-null  object \n",
            " 10  Country         51290 non-null  object \n",
            " 11  Postal Code     9994 non-null   float64\n",
            " 12  Market          51290 non-null  object \n",
            " 13  Region          51290 non-null  object \n",
            " 14  Product ID      51290 non-null  object \n",
            " 15  Category        51290 non-null  object \n",
            " 16  Sub-Category    51290 non-null  object \n",
            " 17  Product Name    51290 non-null  object \n",
            " 18  Sales           51290 non-null  float64\n",
            " 19  Quantity        51290 non-null  int64  \n",
            " 20  Discount        51274 non-null  float64\n",
            " 21  Profit          51290 non-null  float64\n",
            " 22  Shipping Cost   51290 non-null  float64\n",
            " 23  Order Priority  51290 non-null  object \n",
            "dtypes: float64(5), int64(2), object(17)\n",
            "memory usage: 9.4+ MB\n"
          ]
        }
      ],
      "source": [
        "df.info()"
      ]
    },
    {
      "cell_type": "markdown",
      "id": "e6ec624c",
      "metadata": {
        "id": "e6ec624c"
      },
      "source": [
        "except Postal code and  discount variable  , all the columns have 51290 non-null values\n",
        "<br>\n",
        "in these column variables rowid ,quantity in Integer datatype and postalcode,sales,discount,profit,shipping cost are in float datatype and the remaining are in object datatype <br>\n",
        "after looking the output we can say that in postal code (51290-9994)=41296 are null values and (51290-51274)=16  in discount variable are the null values\n",
        "\n",
        "\n",
        "#### Assumptions\n",
        "highest null values are in postal code\n"
      ]
    },
    {
      "cell_type": "markdown",
      "id": "a9911cc2",
      "metadata": {
        "id": "a9911cc2"
      },
      "source": [
        "#### Displaying the statistical analysis"
      ]
    },
    {
      "cell_type": "code",
      "execution_count": null,
      "id": "41a6f7bb",
      "metadata": {
        "id": "41a6f7bb",
        "outputId": "2a71e938-ceee-4bf0-ac94-ff27337140f9"
      },
      "outputs": [
        {
          "data": {
            "text/html": [
              "<div>\n",
              "<style scoped>\n",
              "    .dataframe tbody tr th:only-of-type {\n",
              "        vertical-align: middle;\n",
              "    }\n",
              "\n",
              "    .dataframe tbody tr th {\n",
              "        vertical-align: top;\n",
              "    }\n",
              "\n",
              "    .dataframe thead th {\n",
              "        text-align: right;\n",
              "    }\n",
              "</style>\n",
              "<table border=\"1\" class=\"dataframe\">\n",
              "  <thead>\n",
              "    <tr style=\"text-align: right;\">\n",
              "      <th></th>\n",
              "      <th>Row ID</th>\n",
              "      <th>Postal Code</th>\n",
              "      <th>Sales</th>\n",
              "      <th>Quantity</th>\n",
              "      <th>Discount</th>\n",
              "      <th>Profit</th>\n",
              "      <th>Shipping Cost</th>\n",
              "    </tr>\n",
              "  </thead>\n",
              "  <tbody>\n",
              "    <tr>\n",
              "      <th>count</th>\n",
              "      <td>51290.00000</td>\n",
              "      <td>9994.000000</td>\n",
              "      <td>51290.000000</td>\n",
              "      <td>51290.000000</td>\n",
              "      <td>51274.000000</td>\n",
              "      <td>51290.000000</td>\n",
              "      <td>51290.000000</td>\n",
              "    </tr>\n",
              "    <tr>\n",
              "      <th>mean</th>\n",
              "      <td>25645.50000</td>\n",
              "      <td>55190.379428</td>\n",
              "      <td>246.490581</td>\n",
              "      <td>3.476545</td>\n",
              "      <td>0.142952</td>\n",
              "      <td>28.610982</td>\n",
              "      <td>26.375915</td>\n",
              "    </tr>\n",
              "    <tr>\n",
              "      <th>std</th>\n",
              "      <td>14806.29199</td>\n",
              "      <td>32063.693350</td>\n",
              "      <td>487.565361</td>\n",
              "      <td>2.278766</td>\n",
              "      <td>0.212298</td>\n",
              "      <td>174.340972</td>\n",
              "      <td>57.296804</td>\n",
              "    </tr>\n",
              "    <tr>\n",
              "      <th>min</th>\n",
              "      <td>1.00000</td>\n",
              "      <td>1040.000000</td>\n",
              "      <td>0.444000</td>\n",
              "      <td>1.000000</td>\n",
              "      <td>0.000000</td>\n",
              "      <td>-6599.978000</td>\n",
              "      <td>0.000000</td>\n",
              "    </tr>\n",
              "    <tr>\n",
              "      <th>25%</th>\n",
              "      <td>12823.25000</td>\n",
              "      <td>23223.000000</td>\n",
              "      <td>30.758625</td>\n",
              "      <td>2.000000</td>\n",
              "      <td>0.000000</td>\n",
              "      <td>0.000000</td>\n",
              "      <td>2.610000</td>\n",
              "    </tr>\n",
              "    <tr>\n",
              "      <th>50%</th>\n",
              "      <td>25645.50000</td>\n",
              "      <td>56430.500000</td>\n",
              "      <td>85.053000</td>\n",
              "      <td>3.000000</td>\n",
              "      <td>0.000000</td>\n",
              "      <td>9.240000</td>\n",
              "      <td>7.790000</td>\n",
              "    </tr>\n",
              "    <tr>\n",
              "      <th>75%</th>\n",
              "      <td>38467.75000</td>\n",
              "      <td>90008.000000</td>\n",
              "      <td>251.053200</td>\n",
              "      <td>5.000000</td>\n",
              "      <td>0.200000</td>\n",
              "      <td>36.810000</td>\n",
              "      <td>24.450000</td>\n",
              "    </tr>\n",
              "    <tr>\n",
              "      <th>max</th>\n",
              "      <td>51290.00000</td>\n",
              "      <td>99301.000000</td>\n",
              "      <td>22638.480000</td>\n",
              "      <td>14.000000</td>\n",
              "      <td>0.850000</td>\n",
              "      <td>8399.976000</td>\n",
              "      <td>933.570000</td>\n",
              "    </tr>\n",
              "  </tbody>\n",
              "</table>\n",
              "</div>"
            ],
            "text/plain": [
              "            Row ID   Postal Code         Sales      Quantity      Discount  \\\n",
              "count  51290.00000   9994.000000  51290.000000  51290.000000  51274.000000   \n",
              "mean   25645.50000  55190.379428    246.490581      3.476545      0.142952   \n",
              "std    14806.29199  32063.693350    487.565361      2.278766      0.212298   \n",
              "min        1.00000   1040.000000      0.444000      1.000000      0.000000   \n",
              "25%    12823.25000  23223.000000     30.758625      2.000000      0.000000   \n",
              "50%    25645.50000  56430.500000     85.053000      3.000000      0.000000   \n",
              "75%    38467.75000  90008.000000    251.053200      5.000000      0.200000   \n",
              "max    51290.00000  99301.000000  22638.480000     14.000000      0.850000   \n",
              "\n",
              "             Profit  Shipping Cost  \n",
              "count  51290.000000   51290.000000  \n",
              "mean      28.610982      26.375915  \n",
              "std      174.340972      57.296804  \n",
              "min    -6599.978000       0.000000  \n",
              "25%        0.000000       2.610000  \n",
              "50%        9.240000       7.790000  \n",
              "75%       36.810000      24.450000  \n",
              "max     8399.976000     933.570000  "
            ]
          },
          "execution_count": 9,
          "metadata": {},
          "output_type": "execute_result"
        }
      ],
      "source": [
        "df.describe()"
      ]
    },
    {
      "cell_type": "markdown",
      "id": "5096248f",
      "metadata": {
        "id": "5096248f"
      },
      "source": [
        "we can see clearly in the output of describe() function<br>\n",
        "total no of counts of numerical variables are 51290 except postal code and discount<br>\n",
        "minimum cost of a sale is .44400 and maximum is 22638.48 dollor<br>\n",
        "maximum profit that is get to the company from a customer is 8399.976<br>\n",
        "highest and the lowest shipping cost of a order is 933.57 and 0 respectivaly"
      ]
    },
    {
      "cell_type": "markdown",
      "id": "1275fad2",
      "metadata": {
        "id": "1275fad2"
      },
      "source": [
        "by default describe function provide the statistcal analysis on numerical columns if we want to perfoem the statistical analysis on categorical columns then we can get some limited attributes"
      ]
    },
    {
      "cell_type": "code",
      "execution_count": null,
      "id": "005149dd",
      "metadata": {
        "id": "005149dd",
        "outputId": "717d6b88-f76c-4beb-a5af-12cd88b455b3"
      },
      "outputs": [
        {
          "data": {
            "text/html": [
              "<div>\n",
              "<style scoped>\n",
              "    .dataframe tbody tr th:only-of-type {\n",
              "        vertical-align: middle;\n",
              "    }\n",
              "\n",
              "    .dataframe tbody tr th {\n",
              "        vertical-align: top;\n",
              "    }\n",
              "\n",
              "    .dataframe thead th {\n",
              "        text-align: right;\n",
              "    }\n",
              "</style>\n",
              "<table border=\"1\" class=\"dataframe\">\n",
              "  <thead>\n",
              "    <tr style=\"text-align: right;\">\n",
              "      <th></th>\n",
              "      <th>Order ID</th>\n",
              "      <th>Order Date</th>\n",
              "      <th>Delivary  Date</th>\n",
              "      <th>Ship Mode</th>\n",
              "      <th>Customer ID</th>\n",
              "      <th>Customer Name</th>\n",
              "      <th>Segment</th>\n",
              "      <th>City</th>\n",
              "      <th>State</th>\n",
              "      <th>Country</th>\n",
              "      <th>Market</th>\n",
              "      <th>Region</th>\n",
              "      <th>Product ID</th>\n",
              "      <th>Category</th>\n",
              "      <th>Sub-Category</th>\n",
              "      <th>Product Name</th>\n",
              "      <th>Order Priority</th>\n",
              "    </tr>\n",
              "  </thead>\n",
              "  <tbody>\n",
              "    <tr>\n",
              "      <th>count</th>\n",
              "      <td>51290</td>\n",
              "      <td>51290</td>\n",
              "      <td>51290</td>\n",
              "      <td>51290</td>\n",
              "      <td>51290</td>\n",
              "      <td>51290</td>\n",
              "      <td>51290</td>\n",
              "      <td>51290</td>\n",
              "      <td>51290</td>\n",
              "      <td>51290</td>\n",
              "      <td>51290</td>\n",
              "      <td>51290</td>\n",
              "      <td>51290</td>\n",
              "      <td>51290</td>\n",
              "      <td>51290</td>\n",
              "      <td>51290</td>\n",
              "      <td>51290</td>\n",
              "    </tr>\n",
              "    <tr>\n",
              "      <th>unique</th>\n",
              "      <td>25035</td>\n",
              "      <td>1430</td>\n",
              "      <td>1464</td>\n",
              "      <td>4</td>\n",
              "      <td>1590</td>\n",
              "      <td>795</td>\n",
              "      <td>3</td>\n",
              "      <td>3636</td>\n",
              "      <td>1094</td>\n",
              "      <td>147</td>\n",
              "      <td>7</td>\n",
              "      <td>13</td>\n",
              "      <td>10292</td>\n",
              "      <td>3</td>\n",
              "      <td>17</td>\n",
              "      <td>3788</td>\n",
              "      <td>4</td>\n",
              "    </tr>\n",
              "    <tr>\n",
              "      <th>top</th>\n",
              "      <td>CA-2014-100111</td>\n",
              "      <td>18-06-2014</td>\n",
              "      <td>22-11-2014</td>\n",
              "      <td>Standard Class</td>\n",
              "      <td>PO-18850</td>\n",
              "      <td>Muhammed Yedwab</td>\n",
              "      <td>Consumer</td>\n",
              "      <td>New York City</td>\n",
              "      <td>California</td>\n",
              "      <td>United States</td>\n",
              "      <td>APAC</td>\n",
              "      <td>Central</td>\n",
              "      <td>OFF-AR-10003651</td>\n",
              "      <td>Office Supplies</td>\n",
              "      <td>Binders</td>\n",
              "      <td>Staples</td>\n",
              "      <td>Medium</td>\n",
              "    </tr>\n",
              "    <tr>\n",
              "      <th>freq</th>\n",
              "      <td>14</td>\n",
              "      <td>135</td>\n",
              "      <td>130</td>\n",
              "      <td>30775</td>\n",
              "      <td>97</td>\n",
              "      <td>108</td>\n",
              "      <td>26518</td>\n",
              "      <td>915</td>\n",
              "      <td>2001</td>\n",
              "      <td>9994</td>\n",
              "      <td>11002</td>\n",
              "      <td>11117</td>\n",
              "      <td>35</td>\n",
              "      <td>31273</td>\n",
              "      <td>6152</td>\n",
              "      <td>227</td>\n",
              "      <td>29433</td>\n",
              "    </tr>\n",
              "  </tbody>\n",
              "</table>\n",
              "</div>"
            ],
            "text/plain": [
              "              Order ID  Order Date Delivary  Date       Ship Mode Customer ID  \\\n",
              "count            51290       51290          51290           51290       51290   \n",
              "unique           25035        1430           1464               4        1590   \n",
              "top     CA-2014-100111  18-06-2014     22-11-2014  Standard Class    PO-18850   \n",
              "freq                14         135            130           30775          97   \n",
              "\n",
              "          Customer Name   Segment           City       State        Country  \\\n",
              "count             51290     51290          51290       51290          51290   \n",
              "unique              795         3           3636        1094            147   \n",
              "top     Muhammed Yedwab  Consumer  New York City  California  United States   \n",
              "freq                108     26518            915        2001           9994   \n",
              "\n",
              "       Market   Region       Product ID         Category Sub-Category  \\\n",
              "count   51290    51290            51290            51290        51290   \n",
              "unique      7       13            10292                3           17   \n",
              "top      APAC  Central  OFF-AR-10003651  Office Supplies      Binders   \n",
              "freq    11002    11117               35            31273         6152   \n",
              "\n",
              "       Product Name Order Priority  \n",
              "count         51290          51290  \n",
              "unique         3788              4  \n",
              "top         Staples         Medium  \n",
              "freq            227          29433  "
            ]
          },
          "execution_count": 10,
          "metadata": {},
          "output_type": "execute_result"
        }
      ],
      "source": [
        "df.describe(include=\"object\")"
      ]
    },
    {
      "cell_type": "markdown",
      "id": "3c9fc9ee",
      "metadata": {
        "id": "3c9fc9ee"
      },
      "source": [
        "we can have count and unique count , top and frequency how many maximum times a perticular values  gets repeated<br>\n",
        "\n",
        "#### Assumptions<br>\n",
        "maximum 135 orders are placed in a day <br>\n",
        "and maximum 130 orders are delivered to the customers<br>\n",
        "Muhammed Yedwab is the customer who has placed the orders maximum 108 number of times<br>\n",
        "sales are highest in the  united stats<br>\n",
        "maximum number of times orders are placed from the california in united states<br>\n",
        "among all the regions maximum sales are in central region<br>\n",
        "mostaly products are delivered to the customer in standard class mode<br>\n",
        "from the total sales the order priority is mediam for  mostly costumers<br>\n",
        "product staples are purchased hisghest times<br>\n",
        "new york city is the city where the people are prefering amazon<br>"
      ]
    },
    {
      "cell_type": "code",
      "execution_count": null,
      "id": "14dae7cb",
      "metadata": {
        "id": "14dae7cb",
        "outputId": "15677369-ea69-452f-b809-536fc2138205"
      },
      "outputs": [
        {
          "data": {
            "text/plain": [
              "Row ID                0\n",
              "Order ID              0\n",
              "Order Date            0\n",
              "Delivary  Date        0\n",
              "Ship Mode             0\n",
              "Customer ID           0\n",
              "Customer Name         0\n",
              "Segment               0\n",
              "City                  0\n",
              "State                 0\n",
              "Country               0\n",
              "Postal Code       41296\n",
              "Market                0\n",
              "Region                0\n",
              "Product ID            0\n",
              "Category              0\n",
              "Sub-Category          0\n",
              "Product Name          0\n",
              "Sales                 0\n",
              "Quantity              0\n",
              "Discount             16\n",
              "Profit                0\n",
              "Shipping Cost         0\n",
              "Order Priority        0\n",
              "dtype: int64"
            ]
          },
          "execution_count": 11,
          "metadata": {},
          "output_type": "execute_result"
        }
      ],
      "source": [
        "df.isnull().sum()"
      ]
    },
    {
      "cell_type": "markdown",
      "id": "6326a86c",
      "metadata": {
        "id": "6326a86c"
      },
      "source": [
        "41296 missing values in postal code and 16 missing values are in discount column variable as we have assumed that our assumption is right that maximum missing values in postal code column"
      ]
    },
    {
      "cell_type": "code",
      "execution_count": null,
      "id": "047aa01b",
      "metadata": {
        "id": "047aa01b",
        "outputId": "729579f8-d740-42e2-8b37-830d34638319"
      },
      "outputs": [
        {
          "data": {
            "image/png": "[encoded data removed]",
            "text/plain": [
              "<Figure size 432x288 with 1 Axes>"
            ]
          },
          "metadata": {
            "needs_background": "light"
          },
          "output_type": "display_data"
        }
      ],
      "source": [
        "graph=df.isnull().sum().plot.bar()    \n",
        "plt.show()\n"
      ]
    },
    {
      "cell_type": "markdown",
      "id": "bb076c1c",
      "metadata": {
        "id": "bb076c1c"
      },
      "source": [
        "Here also we can clearly see in graph highest missing values are in postal code , in discount there is no bar because in comparison of tatal values missing values are neglegible"
      ]
    },
    {
      "cell_type": "code",
      "execution_count": null,
      "id": "cbd2a088",
      "metadata": {
        "id": "cbd2a088",
        "outputId": "5bd21e4e-030f-45fa-d88e-7a349390535b"
      },
      "outputs": [
        {
          "name": "stdout",
          "output_type": "stream",
          "text": [
            "Order ID\n",
            "AE-2011-9160    2\n",
            "AE-2013-1130    2\n",
            "AE-2013-1530    2\n",
            "AE-2014-2840    1\n",
            "AE-2014-3830    6\n",
            "               ..\n",
            "ZI-2014-7160    3\n",
            "ZI-2014-7610    2\n",
            "ZI-2014-9540    1\n",
            "ZI-2014-9550    2\n",
            "ZI-2014-9650    1\n",
            "Name: Row ID, Length: 25035, dtype: int64\n"
          ]
        },
        {
          "data": {
            "text/plain": [
              "Product ID\n",
              "FUR-ADV-10000002    2\n",
              "FUR-ADV-10000108    3\n",
              "FUR-ADV-10000183    8\n",
              "FUR-ADV-10000188    5\n",
              "FUR-ADV-10000190    1\n",
              "                   ..\n",
              "TEC-STA-10004181    6\n",
              "TEC-STA-10004536    5\n",
              "TEC-STA-10004542    5\n",
              "TEC-STA-10004834    2\n",
              "TEC-STA-10004927    1\n",
              "Name: Row ID, Length: 10292, dtype: int64"
            ]
          },
          "execution_count": 13,
          "metadata": {},
          "output_type": "execute_result"
        }
      ],
      "source": [
        "print(df.groupby(\"Order ID\")[\"Row ID\"].count())\n",
        "df.groupby(\"Product ID\")[\"Row ID\"].count()"
      ]
    },
    {
      "cell_type": "markdown",
      "id": "bcc2d3ac",
      "metadata": {
        "id": "bcc2d3ac"
      },
      "source": [
        "#### observation\n",
        "Here we can see at one order id, more than one products may buy by the the customer<br>\n",
        "\n",
        "####  assumption\n",
        "It may also happen that one person buy more than one same product at the one order id\n"
      ]
    },
    {
      "cell_type": "code",
      "execution_count": null,
      "id": "5889a418",
      "metadata": {
        "id": "5889a418",
        "outputId": "d364cf45-a5e4-4154-f655-4a2d8d1ec8b8"
      },
      "outputs": [
        {
          "data": {
            "text/plain": [
              "Order ID\n",
              "AE-2011-9160    2\n",
              "AE-2013-1130    2\n",
              "AE-2013-1530    2\n",
              "AE-2014-2840    1\n",
              "AE-2014-3830    6\n",
              "               ..\n",
              "ZI-2014-7160    3\n",
              "ZI-2014-7610    2\n",
              "ZI-2014-9540    1\n",
              "ZI-2014-9550    2\n",
              "ZI-2014-9650    1\n",
              "Name: Product ID, Length: 25035, dtype: int64"
            ]
          },
          "execution_count": 14,
          "metadata": {},
          "output_type": "execute_result"
        }
      ],
      "source": [
        "df.groupby(\"Order ID\")[\"Product ID\"].count()"
      ]
    },
    {
      "cell_type": "code",
      "execution_count": null,
      "id": "f696318b",
      "metadata": {
        "id": "f696318b",
        "outputId": "c537c277-eda6-492a-ab72-181b502de51c"
      },
      "outputs": [
        {
          "data": {
            "text/plain": [
              "1590"
            ]
          },
          "execution_count": 15,
          "metadata": {},
          "output_type": "execute_result"
        }
      ],
      "source": [
        "df[\"Customer ID\"].nunique()"
      ]
    },
    {
      "cell_type": "code",
      "execution_count": null,
      "id": "379002d1",
      "metadata": {
        "id": "379002d1",
        "outputId": "88f6d313-85dd-4673-d92c-6c26b755bf3d"
      },
      "outputs": [
        {
          "name": "stdout",
          "output_type": "stream",
          "text": [
            "1590\n"
          ]
        },
        {
          "data": {
            "text/plain": [
              "795"
            ]
          },
          "execution_count": 16,
          "metadata": {},
          "output_type": "execute_result"
        }
      ],
      "source": [
        "print(df[\"Customer ID\"].nunique())\n",
        "df[\"Customer Name\"].nunique()"
      ]
    },
    {
      "cell_type": "code",
      "execution_count": null,
      "id": "a37c2524",
      "metadata": {
        "id": "a37c2524",
        "outputId": "46ef4c32-184f-4bd0-a908-90319fd327a0"
      },
      "outputs": [
        {
          "name": "stdout",
          "output_type": "stream",
          "text": [
            "order date\n",
            "2011    17.54\n",
            "2012    21.37\n",
            "2013    26.90\n",
            "2014    34.18\n",
            "Name: Row ID, dtype: float64\n"
          ]
        },
        {
          "data": {
            "image/png": "[encoded data removed]",
            "text/plain": [
              "<Figure size 432x288 with 1 Axes>"
            ]
          },
          "metadata": {
            "needs_background": "light"
          },
          "output_type": "display_data"
        }
      ],
      "source": [
        "df1=df.copy()\n",
        "df1[\"order date\"]=df[\"Order Date\"].apply(lambda x : x.split(\"-\")[2])\n",
        "orders=df1.groupby(\"order date\")[\"Row ID\"].count()\n",
        "pct=round(orders*100/len(df1),2)\n",
        "print(pct)\n",
        "bars=plt.bar(orders.keys(),orders.values,color=[\"y\",\"k\",\"g\",\"r\"])\n",
        "\n",
        "i=0\n",
        "for p in bars:\n",
        "    width = p.get_width()\n",
        "    height = p.get_height()\n",
        "    x, y = p.get_xy()\n",
        "    plt.text(x+width/2,y+height*1.02, str(pct[i])+'%', ha='center',weight='bold') \n",
        "    i=i+1\n",
        "    \n",
        "plt.show()  "
      ]
    },
    {
      "cell_type": "markdown",
      "id": "8927fe7c",
      "metadata": {
        "id": "8927fe7c"
      },
      "source": [
        "we can clearly see sales are increasing every year , percentage of sales are going to higher every year"
      ]
    },
    {
      "cell_type": "code",
      "execution_count": null,
      "id": "d060b659",
      "metadata": {
        "id": "d060b659",
        "outputId": "cd26ed03-47a0-414a-9cfc-8194500d64d1"
      },
      "outputs": [
        {
          "data": {
            "image/png": "[encoded data removed]",
            "text/plain": [
              "<Figure size 432x288 with 1 Axes>"
            ]
          },
          "metadata": {},
          "output_type": "display_data"
        }
      ],
      "source": [
        "plt.title(\"Category Distribution of the products\")\n",
        "df.groupby(\"Category\")[\"Order ID\"].count().plot.pie(autopct=\"%1.1f%%\",explode=[0,.1,0])\n",
        "plt.show()"
      ]
    },
    {
      "cell_type": "markdown",
      "id": "9194c8fb",
      "metadata": {
        "id": "9194c8fb"
      },
      "source": [
        "as we have assumed in statistical analysis that is right office supplies is the highest category that ordered by the customers"
      ]
    },
    {
      "cell_type": "raw",
      "id": "0eb65005",
      "metadata": {
        "id": "0eb65005"
      },
      "source": [
        "sn.countplot(df.Category,palette = 'nipy_spectral')"
      ]
    },
    {
      "cell_type": "code",
      "execution_count": null,
      "id": "262c4080",
      "metadata": {
        "id": "262c4080",
        "outputId": "116596e5-3156-4cbe-ab05-ae2c50eec15d"
      },
      "outputs": [
        {
          "name": "stdout",
          "output_type": "stream",
          "text": [
            "17\n"
          ]
        },
        {
          "data": {
            "text/plain": [
              "Binders        6152\n",
              "Storage        5059\n",
              "Art            4883\n",
              "Paper          3538\n",
              "Chairs         3434\n",
              "Phones         3357\n",
              "Furnishings    3170\n",
              "Accessories    3075\n",
              "Labels         2606\n",
              "Envelopes      2435\n",
              "Supplies       2425\n",
              "Fasteners      2420\n",
              "Bookcases      2411\n",
              "Copiers        2223\n",
              "Appliances     1755\n",
              "Machines       1486\n",
              "Tables          861\n",
              "Name: Sub-Category, dtype: int64"
            ]
          },
          "execution_count": 19,
          "metadata": {},
          "output_type": "execute_result"
        }
      ],
      "source": [
        "print(df[\"Sub-Category\"].nunique())\n",
        "df[\"Sub-Category\"].value_counts()"
      ]
    },
    {
      "cell_type": "markdown",
      "id": "b8567116",
      "metadata": {
        "id": "b8567116"
      },
      "source": [
        "There are 17 sub-category of  the products and the names are there in the output"
      ]
    },
    {
      "cell_type": "code",
      "execution_count": null,
      "id": "6672f488",
      "metadata": {
        "id": "6672f488",
        "outputId": "3784b244-2646-479b-da5e-3bec83f95aab"
      },
      "outputs": [
        {
          "data": {
            "image/png": "[encoded data removed]",
            "text/plain": [
              "<Figure size 432x288 with 1 Axes>"
            ]
          },
          "metadata": {
            "needs_background": "light"
          },
          "output_type": "display_data"
        }
      ],
      "source": [
        "# sn.countplot(df[\"Sub-Category\"],palette = 'nipy_spectral')\n",
        "colors = np.array([\"red\",\"green\",\"blue\",\"yellow\",\"pink\",\"black\",\"orange\",\"purple\",\"blue\",\"black\",\"gray\",\"cyan\",\"magenta\"])  # as we know that 17 sub-category so 17 values for colors\n",
        "df.groupby(\"Sub-Category\")[\"Row ID\"].count().plot.bar(color=colors)\n",
        "plt.xticks(rotation=45, ha='right')\n",
        "plt.show()"
      ]
    },
    {
      "cell_type": "markdown",
      "id": "027b67db",
      "metadata": {
        "id": "027b67db"
      },
      "source": [
        "as we can see in graph which is plot in subcategory and no of ordered in which binders sales are  high"
      ]
    },
    {
      "cell_type": "code",
      "execution_count": null,
      "id": "466e29c0",
      "metadata": {
        "id": "466e29c0",
        "outputId": "1f86e2ac-9986-4b7f-e641-bf5011a9aa9c"
      },
      "outputs": [
        {
          "data": {
            "text/html": [
              "<div>\n",
              "<style scoped>\n",
              "    .dataframe tbody tr th:only-of-type {\n",
              "        vertical-align: middle;\n",
              "    }\n",
              "\n",
              "    .dataframe tbody tr th {\n",
              "        vertical-align: top;\n",
              "    }\n",
              "\n",
              "    .dataframe thead th {\n",
              "        text-align: right;\n",
              "    }\n",
              "</style>\n",
              "<table border=\"1\" class=\"dataframe\">\n",
              "  <thead>\n",
              "    <tr style=\"text-align: right;\">\n",
              "      <th></th>\n",
              "      <th>Row ID</th>\n",
              "      <th>Order ID</th>\n",
              "      <th>Order Date</th>\n",
              "      <th>Delivary  Date</th>\n",
              "      <th>Ship Mode</th>\n",
              "      <th>Customer ID</th>\n",
              "      <th>Customer Name</th>\n",
              "      <th>Segment</th>\n",
              "      <th>City</th>\n",
              "      <th>State</th>\n",
              "      <th>Country</th>\n",
              "      <th>Postal Code</th>\n",
              "      <th>Market</th>\n",
              "      <th>Region</th>\n",
              "      <th>Product ID</th>\n",
              "      <th>Category</th>\n",
              "      <th>Sub-Category</th>\n",
              "      <th>Product Name</th>\n",
              "      <th>Sales</th>\n",
              "      <th>Quantity</th>\n",
              "      <th>Discount</th>\n",
              "      <th>Profit</th>\n",
              "      <th>Shipping Cost</th>\n",
              "      <th>Order Priority</th>\n",
              "    </tr>\n",
              "  </thead>\n",
              "  <tbody>\n",
              "    <tr>\n",
              "      <th>0</th>\n",
              "      <td>42433</td>\n",
              "      <td>AG-2011-2040</td>\n",
              "      <td>01-01-2011</td>\n",
              "      <td>06-01-2011</td>\n",
              "      <td>Standard Class</td>\n",
              "      <td>TB-11280</td>\n",
              "      <td>Toby Braunhardt</td>\n",
              "      <td>Consumer</td>\n",
              "      <td>Constantine</td>\n",
              "      <td>Constantine</td>\n",
              "      <td>Algeria</td>\n",
              "      <td>NaN</td>\n",
              "      <td>Africa</td>\n",
              "      <td>Africa</td>\n",
              "      <td>OFF-TEN-10000025</td>\n",
              "      <td>Office Supplies</td>\n",
              "      <td>Storage</td>\n",
              "      <td>Tenex Lockers, Blue</td>\n",
              "      <td>408.300</td>\n",
              "      <td>2</td>\n",
              "      <td>0.0</td>\n",
              "      <td>106.140</td>\n",
              "      <td>35.46</td>\n",
              "      <td>Medium</td>\n",
              "    </tr>\n",
              "    <tr>\n",
              "      <th>1</th>\n",
              "      <td>22253</td>\n",
              "      <td>IN-2011-47883</td>\n",
              "      <td>01-01-2011</td>\n",
              "      <td>08-01-2011</td>\n",
              "      <td>Standard Class</td>\n",
              "      <td>JH-15985</td>\n",
              "      <td>Joseph Holt</td>\n",
              "      <td>Consumer</td>\n",
              "      <td>Wagga Wagga</td>\n",
              "      <td>New South Wales</td>\n",
              "      <td>Australia</td>\n",
              "      <td>NaN</td>\n",
              "      <td>APAC</td>\n",
              "      <td>Oceania</td>\n",
              "      <td>OFF-SU-10000618</td>\n",
              "      <td>Office Supplies</td>\n",
              "      <td>Supplies</td>\n",
              "      <td>Acme Trimmer, High Speed</td>\n",
              "      <td>120.366</td>\n",
              "      <td>3</td>\n",
              "      <td>0.1</td>\n",
              "      <td>36.036</td>\n",
              "      <td>9.72</td>\n",
              "      <td>Medium</td>\n",
              "    </tr>\n",
              "  </tbody>\n",
              "</table>\n",
              "</div>"
            ],
            "text/plain": [
              "   Row ID       Order ID  Order Date Delivary  Date       Ship Mode  \\\n",
              "0   42433   AG-2011-2040  01-01-2011     06-01-2011  Standard Class   \n",
              "1   22253  IN-2011-47883  01-01-2011     08-01-2011  Standard Class   \n",
              "\n",
              "  Customer ID    Customer Name   Segment         City            State  \\\n",
              "0    TB-11280  Toby Braunhardt  Consumer  Constantine      Constantine   \n",
              "1    JH-15985      Joseph Holt  Consumer  Wagga Wagga  New South Wales   \n",
              "\n",
              "     Country  Postal Code  Market   Region        Product ID         Category  \\\n",
              "0    Algeria          NaN  Africa   Africa  OFF-TEN-10000025  Office Supplies   \n",
              "1  Australia          NaN    APAC  Oceania   OFF-SU-10000618  Office Supplies   \n",
              "\n",
              "  Sub-Category              Product Name    Sales  Quantity  Discount  \\\n",
              "0      Storage       Tenex Lockers, Blue  408.300         2       0.0   \n",
              "1     Supplies  Acme Trimmer, High Speed  120.366         3       0.1   \n",
              "\n",
              "    Profit  Shipping Cost Order Priority  \n",
              "0  106.140          35.46         Medium  \n",
              "1   36.036           9.72         Medium  "
            ]
          },
          "execution_count": 21,
          "metadata": {},
          "output_type": "execute_result"
        }
      ],
      "source": [
        "df.head(2)"
      ]
    },
    {
      "cell_type": "code",
      "execution_count": null,
      "id": "5ae12471",
      "metadata": {
        "id": "5ae12471",
        "outputId": "ce0941cd-47fb-4a39-a2b4-7179f03ef460"
      },
      "outputs": [
        {
          "data": {
            "image/png": "[encoded data removed]",
            "text/plain": [
              "<Figure size 432x288 with 1 Axes>"
            ]
          },
          "metadata": {
            "needs_background": "light"
          },
          "output_type": "display_data"
        }
      ],
      "source": [
        "plt.xticks(rotation=45, ha='right')\n",
        "sn.countplot(df[\"Ship Mode\"])\n",
        "plt.show()"
      ]
    },
    {
      "cell_type": "markdown",
      "id": "039182d6",
      "metadata": {
        "id": "039182d6"
      },
      "source": [
        "company uses the delivars mode as standard class for  maximum products"
      ]
    },
    {
      "cell_type": "code",
      "execution_count": null,
      "id": "3d74fb3d",
      "metadata": {
        "id": "3d74fb3d",
        "outputId": "bee70443-9f1e-499c-d0fc-a964226cba9d"
      },
      "outputs": [
        {
          "data": {
            "image/png": "[encoded data removed]",
            "text/plain": [
              "<Figure size 432x288 with 1 Axes>"
            ]
          },
          "metadata": {
            "needs_background": "light"
          },
          "output_type": "display_data"
        }
      ],
      "source": [
        "plt.title(\"Distribution of sales prices over the total products \")\n",
        "sn.distplot(df.Sales)\n",
        "plt.show()"
      ]
    },
    {
      "cell_type": "markdown",
      "id": "e44c814b",
      "metadata": {
        "id": "e44c814b"
      },
      "source": [
        "left skewed graph that we have got its mean the number of sales are more median is shifted to right from the mean value"
      ]
    },
    {
      "cell_type": "code",
      "execution_count": null,
      "id": "c0c1a177",
      "metadata": {
        "scrolled": true,
        "id": "c0c1a177",
        "outputId": "fa8352c9-0765-4342-accb-c5ef953c6ed1"
      },
      "outputs": [
        {
          "data": {
            "text/html": [
              "<style type=\"text/css\">\n",
              "#T_6af16_row0_col0 {\n",
              "  background-color: #015147;\n",
              "  color: #f1f1f1;\n",
              "}\n",
              "#T_6af16_row0_col1, #T_6af16_row0_col2 {\n",
              "  background-color: #005046;\n",
              "  color: #f1f1f1;\n",
              "}\n",
              "#T_6af16_row1_col0, #T_6af16_row1_col2, #T_6af16_row9_col0, #T_6af16_row9_col1, #T_6af16_row9_col2 {\n",
              "  background-color: #003c30;\n",
              "  color: #f1f1f1;\n",
              "}\n",
              "#T_6af16_row1_col1 {\n",
              "  background-color: #003e32;\n",
              "  color: #f1f1f1;\n",
              "}\n",
              "#T_6af16_row2_col0, #T_6af16_row4_col0 {\n",
              "  background-color: #00493e;\n",
              "  color: #f1f1f1;\n",
              "}\n",
              "#T_6af16_row2_col1, #T_6af16_row2_col2 {\n",
              "  background-color: #004b40;\n",
              "  color: #f1f1f1;\n",
              "}\n",
              "#T_6af16_row3_col0 {\n",
              "  background-color: #0e726a;\n",
              "  color: #f1f1f1;\n",
              "}\n",
              "#T_6af16_row3_col1 {\n",
              "  background-color: #10746c;\n",
              "  color: #f1f1f1;\n",
              "}\n",
              "#T_6af16_row3_col2 {\n",
              "  background-color: #12766e;\n",
              "  color: #f1f1f1;\n",
              "}\n",
              "#T_6af16_row4_col1 {\n",
              "  background-color: #00483d;\n",
              "  color: #f1f1f1;\n",
              "}\n",
              "#T_6af16_row4_col2 {\n",
              "  background-color: #00463b;\n",
              "  color: #f1f1f1;\n",
              "}\n",
              "#T_6af16_row5_col0 {\n",
              "  background-color: #1a7e76;\n",
              "  color: #f1f1f1;\n",
              "}\n",
              "#T_6af16_row5_col1 {\n",
              "  background-color: #21847c;\n",
              "  color: #f1f1f1;\n",
              "}\n",
              "#T_6af16_row5_col2 {\n",
              "  background-color: #1f827a;\n",
              "  color: #f1f1f1;\n",
              "}\n",
              "#T_6af16_row6_col0 {\n",
              "  background-color: #76c6ba;\n",
              "  color: #000000;\n",
              "}\n",
              "#T_6af16_row6_col1 {\n",
              "  background-color: #79c8bc;\n",
              "  color: #000000;\n",
              "}\n",
              "#T_6af16_row6_col2 {\n",
              "  background-color: #7fccc0;\n",
              "  color: #000000;\n",
              "}\n",
              "#T_6af16_row7_col0 {\n",
              "  background-color: #016058;\n",
              "  color: #f1f1f1;\n",
              "}\n",
              "#T_6af16_row7_col1 {\n",
              "  background-color: #015f56;\n",
              "  color: #f1f1f1;\n",
              "}\n",
              "#T_6af16_row7_col2, #T_6af16_row8_col2 {\n",
              "  background-color: #015b52;\n",
              "  color: #f1f1f1;\n",
              "}\n",
              "#T_6af16_row8_col0, #T_6af16_row8_col1 {\n",
              "  background-color: #015d54;\n",
              "  color: #f1f1f1;\n",
              "}\n",
              "#T_6af16_row10_col0 {\n",
              "  background-color: #3b9b93;\n",
              "  color: #f1f1f1;\n",
              "}\n",
              "#T_6af16_row10_col1, #T_6af16_row10_col2 {\n",
              "  background-color: #33958d;\n",
              "  color: #f1f1f1;\n",
              "}\n",
              "#T_6af16_row11_col0, #T_6af16_row11_col1, #T_6af16_row11_col2 {\n",
              "  background-color: #543005;\n",
              "  color: #f1f1f1;\n",
              "}\n",
              "</style>\n",
              "<table id=\"T_6af16_\">\n",
              "  <thead>\n",
              "    <tr>\n",
              "      <th class=\"blank\" >&nbsp;</th>\n",
              "      <th class=\"index_name level0\" >Category</th>\n",
              "      <th class=\"col_heading level0 col0\" >Furniture</th>\n",
              "      <th class=\"col_heading level0 col1\" >Office Supplies</th>\n",
              "      <th class=\"col_heading level0 col2\" >Technology</th>\n",
              "    </tr>\n",
              "    <tr>\n",
              "      <th class=\"index_name level0\" >Order Priority</th>\n",
              "      <th class=\"index_name level1\" >Ship Mode</th>\n",
              "      <th class=\"blank col0\" >&nbsp;</th>\n",
              "      <th class=\"blank col1\" >&nbsp;</th>\n",
              "      <th class=\"blank col2\" >&nbsp;</th>\n",
              "    </tr>\n",
              "  </thead>\n",
              "  <tbody>\n",
              "    <tr>\n",
              "      <th id=\"T_6af16_level0_row0\" class=\"row_heading level0 row0\" rowspan=\"3\">Critical</th>\n",
              "      <th id=\"T_6af16_level1_row0\" class=\"row_heading level1 row0\" >First Class</th>\n",
              "      <td id=\"T_6af16_row0_col0\" class=\"data row0 col0\" >341</td>\n",
              "      <td id=\"T_6af16_row0_col1\" class=\"data row0 col1\" >1055</td>\n",
              "      <td id=\"T_6af16_row0_col2\" class=\"data row0 col2\" >338</td>\n",
              "    </tr>\n",
              "    <tr>\n",
              "      <th id=\"T_6af16_level1_row1\" class=\"row_heading level1 row1\" >Same Day</th>\n",
              "      <td id=\"T_6af16_row1_col0\" class=\"data row1 col0\" >127</td>\n",
              "      <td id=\"T_6af16_row1_col1\" class=\"data row1 col1\" >477</td>\n",
              "      <td id=\"T_6af16_row1_col2\" class=\"data row1 col2\" >138</td>\n",
              "    </tr>\n",
              "    <tr>\n",
              "      <th id=\"T_6af16_level1_row2\" class=\"row_heading level1 row2\" >Second Class</th>\n",
              "      <td id=\"T_6af16_row2_col0\" class=\"data row2 col0\" >254</td>\n",
              "      <td id=\"T_6af16_row2_col1\" class=\"data row2 col1\" >914</td>\n",
              "      <td id=\"T_6af16_row2_col2\" class=\"data row2 col2\" >288</td>\n",
              "    </tr>\n",
              "    <tr>\n",
              "      <th id=\"T_6af16_level0_row3\" class=\"row_heading level0 row3\" rowspan=\"4\">High</th>\n",
              "      <th id=\"T_6af16_level1_row3\" class=\"row_heading level1 row3\" >First Class</th>\n",
              "      <td id=\"T_6af16_row3_col0\" class=\"data row3 col0\" >638</td>\n",
              "      <td id=\"T_6af16_row3_col1\" class=\"data row3 col1\" >2085</td>\n",
              "      <td id=\"T_6af16_row3_col2\" class=\"data row3 col2\" >690</td>\n",
              "    </tr>\n",
              "    <tr>\n",
              "      <th id=\"T_6af16_level1_row4\" class=\"row_heading level1 row4\" >Same Day</th>\n",
              "      <td id=\"T_6af16_row4_col0\" class=\"data row4 col0\" >256</td>\n",
              "      <td id=\"T_6af16_row4_col1\" class=\"data row4 col1\" >772</td>\n",
              "      <td id=\"T_6af16_row4_col2\" class=\"data row4 col2\" >241</td>\n",
              "    </tr>\n",
              "    <tr>\n",
              "      <th id=\"T_6af16_level1_row5\" class=\"row_heading level1 row5\" >Second Class</th>\n",
              "      <td id=\"T_6af16_row5_col0\" class=\"data row5 col0\" >739</td>\n",
              "      <td id=\"T_6af16_row5_col1\" class=\"data row5 col1\" >2479</td>\n",
              "      <td id=\"T_6af16_row5_col2\" class=\"data row5 col2\" >792</td>\n",
              "    </tr>\n",
              "    <tr>\n",
              "      <th id=\"T_6af16_level1_row6\" class=\"row_heading level1 row6\" >Standard Class</th>\n",
              "      <td id=\"T_6af16_row6_col0\" class=\"data row6 col0\" >1298</td>\n",
              "      <td id=\"T_6af16_row6_col1\" class=\"data row6 col1\" >4130</td>\n",
              "      <td id=\"T_6af16_row6_col2\" class=\"data row6 col2\" >1381</td>\n",
              "    </tr>\n",
              "    <tr>\n",
              "      <th id=\"T_6af16_level0_row7\" class=\"row_heading level0 row7\" >Low</th>\n",
              "      <th id=\"T_6af16_level1_row7\" class=\"row_heading level1 row7\" >Standard Class</th>\n",
              "      <td id=\"T_6af16_row7_col0\" class=\"data row7 col0\" >477</td>\n",
              "      <td id=\"T_6af16_row7_col1\" class=\"data row7 col1\" >1487</td>\n",
              "      <td id=\"T_6af16_row7_col2\" class=\"data row7 col2\" >460</td>\n",
              "    </tr>\n",
              "    <tr>\n",
              "      <th id=\"T_6af16_level0_row8\" class=\"row_heading level0 row8\" rowspan=\"4\">Medium</th>\n",
              "      <th id=\"T_6af16_level1_row8\" class=\"row_heading level1 row8\" >First Class</th>\n",
              "      <td id=\"T_6af16_row8_col0\" class=\"data row8 col0\" >452</td>\n",
              "      <td id=\"T_6af16_row8_col1\" class=\"data row8 col1\" >1458</td>\n",
              "      <td id=\"T_6af16_row8_col2\" class=\"data row8 col2\" >448</td>\n",
              "    </tr>\n",
              "    <tr>\n",
              "      <th id=\"T_6af16_level1_row9\" class=\"row_heading level1 row9\" >Same Day</th>\n",
              "      <td id=\"T_6af16_row9_col0\" class=\"data row9 col0\" >125</td>\n",
              "      <td id=\"T_6af16_row9_col1\" class=\"data row9 col1\" >426</td>\n",
              "      <td id=\"T_6af16_row9_col2\" class=\"data row9 col2\" >139</td>\n",
              "    </tr>\n",
              "    <tr>\n",
              "      <th id=\"T_6af16_level1_row10\" class=\"row_heading level1 row10\" >Second Class</th>\n",
              "      <td id=\"T_6af16_row10_col0\" class=\"data row10 col0\" >975</td>\n",
              "      <td id=\"T_6af16_row10_col1\" class=\"data row10 col1\" >2918</td>\n",
              "      <td id=\"T_6af16_row10_col2\" class=\"data row10 col2\" >950</td>\n",
              "    </tr>\n",
              "    <tr>\n",
              "      <th id=\"T_6af16_level1_row11\" class=\"row_heading level1 row11\" >Standard Class</th>\n",
              "      <td id=\"T_6af16_row11_col0\" class=\"data row11 col0\" >4194</td>\n",
              "      <td id=\"T_6af16_row11_col1\" class=\"data row11 col1\" >13072</td>\n",
              "      <td id=\"T_6af16_row11_col2\" class=\"data row11 col2\" >4276</td>\n",
              "    </tr>\n",
              "  </tbody>\n",
              "</table>\n"
            ],
            "text/plain": [
              "<pandas.io.formats.style.Styler at 0x20ab9d2fd90>"
            ]
          },
          "execution_count": 24,
          "metadata": {},
          "output_type": "execute_result"
        }
      ],
      "source": [
        "pd.crosstab([df[\"Order Priority\"],df[\"Ship Mode\"]],[df[\"Category\"]]).style.background_gradient(cmap=\"BrBG_r\")"
      ]
    },
    {
      "cell_type": "markdown",
      "id": "50bc9a64",
      "metadata": {
        "id": "50bc9a64"
      },
      "source": [
        "#### observations\n",
        "in critical order priority there is no standard class , first class shipmode is the highest sales in office supplies<br>\n",
        "in high priority standard class ship mode have the highest sales in product office supply category<br>\n",
        "in medium order priority standard class mode ,here also office supplies category is the highest position"
      ]
    },
    {
      "cell_type": "code",
      "execution_count": null,
      "id": "67087c54",
      "metadata": {
        "id": "67087c54"
      },
      "outputs": [],
      "source": [
        "# 'summ_r' is not a valid value for name; supported values are 'Accent', 'Accent_r', 'Blues', 'Blues_r', 'BrBG', 'BrBG_r', 'BuGn', 'BuGn_r', 'BuPu', 'BuPu_r', 'CMRmap', 'CMRmap_r', 'Dark2', 'Dark2_r', 'GnBu', 'GnBu_r', 'Greens', 'Greens_r', 'Greys', 'Greys_r', 'OrRd', 'OrRd_r', 'Oranges', 'Oranges_r', 'PRGn', 'PRGn_r', 'Paired', 'Paired_r', 'Pastel1', 'Pastel1_r', 'Pastel2', 'Pastel2_r', 'PiYG', 'PiYG_r', 'PuBu', 'PuBuGn', 'PuBuGn_r', 'PuBu_r', 'PuOr', 'PuOr_r', 'PuRd', 'PuRd_r', 'Purples', 'Purples_r', 'RdBu', 'RdBu_r', 'RdGy', 'RdGy_r', 'RdPu', 'RdPu_r', 'RdYlBu', 'RdYlBu_r', 'RdYlGn', 'RdYlGn_r', 'Reds', 'Reds_r', 'Set1', 'Set1_r', 'Set2', 'Set2_r', 'Set3', 'Set3_r', 'Spectral', 'Spectral_r', 'Wistia', 'Wistia_r', 'YlGn', 'YlGnBu', 'YlGnBu_r', 'YlGn_r', 'YlOrBr', 'YlOrBr_r', 'YlOrRd', 'YlOrRd_r', 'afmhot', 'afmhot_r', 'autumn', 'autumn_r', 'binary', 'binary_r', 'bone', 'bone_r', 'brg', 'brg_r', 'bwr', 'bwr_r', 'cividis', 'cividis_r', 'cool', 'cool_r', 'coolwarm', 'coolwarm_r', 'copper', 'copper_r', 'crest', 'crest_r', 'cubehelix', 'cubehelix_r', 'flag', 'flag_r', 'flare', 'flare_r', 'gist_earth', 'gist_earth_r', 'gist_gray', 'gist_gray_r', 'gist_heat', 'gist_heat_r', 'gist_ncar', 'gist_ncar_r', 'gist_rainbow', 'gist_rainbow_r', 'gist_stern', 'gist_stern_r', 'gist_yarg', 'gist_yarg_r', 'gnuplot', 'gnuplot2', 'gnuplot2_r', 'gnuplot_r', 'gray', 'gray_r', 'hot', 'hot_r', 'hsv', 'hsv_r', 'icefire', 'icefire_r', 'inferno', 'inferno_r', 'jet', 'jet_r', 'magma', 'magma_r', 'mako', 'mako_r', 'nipy_spectral', 'nipy_spectral_r', 'ocean', 'ocean_r', 'pink', 'pink_r', 'plasma', 'plasma_r', 'prism', 'prism_r', 'rainbow', 'rainbow_r', 'rocket', 'rocket_r', 'seismic', 'seismic_r', 'spring', 'spring_r', 'summer', 'summer_r', 'tab10', 'tab10_r', 'tab20', 'tab20_r', 'tab20b', 'tab20b_r', 'tab20c', 'tab20c_r', 'terrain', 'terrain_r', 'turbo', 'turbo_r', 'twilight', 'twilight_r', 'twilight_shifted', 'twilight_shifted_r', 'viridis', 'viridis_r', 'vlag', 'vlag_r', 'winter', 'winter_r'\n"
      ]
    },
    {
      "cell_type": "code",
      "execution_count": null,
      "id": "cb5559d8",
      "metadata": {
        "id": "cb5559d8",
        "outputId": "00967ff9-f8a5-4c84-9ecb-c8ff77a1ee3b"
      },
      "outputs": [
        {
          "data": {
            "image/png": "[encoded data removed]",
            "text/plain": [
              "<Figure size 432x288 with 1 Axes>"
            ]
          },
          "metadata": {
            "needs_background": "light"
          },
          "output_type": "display_data"
        }
      ],
      "source": [
        "p=df.groupby(\"Market\")[\"Order ID\"].count()\n",
        "p\n",
        "\n",
        "sn.distplot(p,bins=3)\n",
        "plt.show()"
      ]
    },
    {
      "cell_type": "code",
      "execution_count": null,
      "id": "8b70e79f",
      "metadata": {
        "id": "8b70e79f",
        "outputId": "14f7f244-1801-486b-9262-7bf23b145f05"
      },
      "outputs": [
        {
          "data": {
            "image/png": "[encoded data removed]",
            "text/plain": [
              "<Figure size 432x288 with 2 Axes>"
            ]
          },
          "metadata": {
            "needs_background": "light"
          },
          "output_type": "display_data"
        }
      ],
      "source": [
        "sn.heatmap(df[[\"Quantity\",\"Discount\",\"Profit\",\"Shipping Cost\",\"Sales\"]].corr(), annot=True, cmap=\"CMRmap_r\")\n",
        "plt.show()"
      ]
    },
    {
      "cell_type": "code",
      "execution_count": null,
      "id": "c99c6a59",
      "metadata": {
        "id": "c99c6a59",
        "outputId": "447c1c1e-2cba-4fc3-aa7e-a789fb7ab1f1"
      },
      "outputs": [
        {
          "data": {
            "image/png": "[encoded data removed]",
            "text/plain": [
              "<Figure size 1154x360 with 3 Axes>"
            ]
          },
          "metadata": {
            "needs_background": "light"
          },
          "output_type": "display_data"
        }
      ],
      "source": [
        "sn.factorplot(\"Sales\",\"Category\",hue=\"Market\",col=\"Segment\",data=df)\n",
        "plt.show()"
      ]
    },
    {
      "cell_type": "code",
      "execution_count": null,
      "id": "69920928",
      "metadata": {
        "id": "69920928",
        "outputId": "97f7765a-701f-403c-ca39-3cd6c9b17a12"
      },
      "outputs": [
        {
          "data": {
            "image/png": "[encoded data removed]",
            "text/plain": [
              "<Figure size 1154x360 with 3 Axes>"
            ]
          },
          "metadata": {
            "needs_background": "light"
          },
          "output_type": "display_data"
        }
      ],
      "source": [
        "sn.factorplot(\"Profit\",\"Category\",hue=\"Market\",col=\"Segment\",data=df)\n",
        "plt.show()"
      ]
    },
    {
      "cell_type": "code",
      "execution_count": null,
      "id": "f21314ec",
      "metadata": {
        "id": "f21314ec",
        "outputId": "dca3aa10-1368-4479-8500-d090544ccda7"
      },
      "outputs": [
        {
          "data": {
            "text/html": [
              "<style type=\"text/css\">\n",
              "#T_6377e_row0_col0, #T_6377e_row2_col0, #T_6377e_row2_col3, #T_6377e_row2_col6 {\n",
              "  background-color: #fafc66;\n",
              "  color: #000000;\n",
              "}\n",
              "#T_6377e_row0_col1, #T_6377e_row0_col4, #T_6377e_row8_col4 {\n",
              "  background-color: #fdfe66;\n",
              "  color: #000000;\n",
              "}\n",
              "#T_6377e_row0_col2, #T_6377e_row7_col0 {\n",
              "  background-color: #f5fa66;\n",
              "  color: #000000;\n",
              "}\n",
              "#T_6377e_row0_col3, #T_6377e_row6_col0, #T_6377e_row6_col1, #T_6377e_row6_col2, #T_6377e_row6_col3, #T_6377e_row6_col4, #T_6377e_row6_col6, #T_6377e_row8_col0, #T_6377e_row8_col2, #T_6377e_row8_col3, #T_6377e_row8_col5, #T_6377e_row8_col6 {\n",
              "  background-color: #ffff66;\n",
              "  color: #000000;\n",
              "}\n",
              "#T_6377e_row0_col5, #T_6377e_row2_col2 {\n",
              "  background-color: #f8fc66;\n",
              "  color: #000000;\n",
              "}\n",
              "#T_6377e_row0_col6, #T_6377e_row2_col1 {\n",
              "  background-color: #f9fc66;\n",
              "  color: #000000;\n",
              "}\n",
              "#T_6377e_row1_col0, #T_6377e_row1_col5, #T_6377e_row3_col2, #T_6377e_row3_col3 {\n",
              "  background-color: #e4f266;\n",
              "  color: #000000;\n",
              "}\n",
              "#T_6377e_row1_col1 {\n",
              "  background-color: #dcee66;\n",
              "  color: #000000;\n",
              "}\n",
              "#T_6377e_row1_col2 {\n",
              "  background-color: #cee666;\n",
              "  color: #000000;\n",
              "}\n",
              "#T_6377e_row1_col3, #T_6377e_row1_col6 {\n",
              "  background-color: #e1f066;\n",
              "  color: #000000;\n",
              "}\n",
              "#T_6377e_row1_col4 {\n",
              "  background-color: #e2f066;\n",
              "  color: #000000;\n",
              "}\n",
              "#T_6377e_row2_col4, #T_6377e_row2_col5, #T_6377e_row6_col5 {\n",
              "  background-color: #fbfd66;\n",
              "  color: #000000;\n",
              "}\n",
              "#T_6377e_row3_col0 {\n",
              "  background-color: #d2e866;\n",
              "  color: #000000;\n",
              "}\n",
              "#T_6377e_row3_col1 {\n",
              "  background-color: #e7f366;\n",
              "  color: #000000;\n",
              "}\n",
              "#T_6377e_row3_col4 {\n",
              "  background-color: #e8f466;\n",
              "  color: #000000;\n",
              "}\n",
              "#T_6377e_row3_col5, #T_6377e_row5_col0 {\n",
              "  background-color: #cfe766;\n",
              "  color: #000000;\n",
              "}\n",
              "#T_6377e_row3_col6, #T_6377e_row5_col5 {\n",
              "  background-color: #d3e966;\n",
              "  color: #000000;\n",
              "}\n",
              "#T_6377e_row4_col0, #T_6377e_row4_col3 {\n",
              "  background-color: #7dbe66;\n",
              "  color: #000000;\n",
              "}\n",
              "#T_6377e_row4_col1 {\n",
              "  background-color: #74ba66;\n",
              "  color: #f1f1f1;\n",
              "}\n",
              "#T_6377e_row4_col2 {\n",
              "  background-color: #4aa466;\n",
              "  color: #f1f1f1;\n",
              "}\n",
              "#T_6377e_row4_col4 {\n",
              "  background-color: #80c066;\n",
              "  color: #000000;\n",
              "}\n",
              "#T_6377e_row4_col5 {\n",
              "  background-color: #7abc66;\n",
              "  color: #000000;\n",
              "}\n",
              "#T_6377e_row4_col6 {\n",
              "  background-color: #78bc66;\n",
              "  color: #f1f1f1;\n",
              "}\n",
              "#T_6377e_row5_col1 {\n",
              "  background-color: #daec66;\n",
              "  color: #000000;\n",
              "}\n",
              "#T_6377e_row5_col2 {\n",
              "  background-color: #e6f266;\n",
              "  color: #000000;\n",
              "}\n",
              "#T_6377e_row5_col3 {\n",
              "  background-color: #dfef66;\n",
              "  color: #000000;\n",
              "}\n",
              "#T_6377e_row5_col4 {\n",
              "  background-color: #deee66;\n",
              "  color: #000000;\n",
              "}\n",
              "#T_6377e_row5_col6, #T_6377e_row9_col2 {\n",
              "  background-color: #d9ec66;\n",
              "  color: #000000;\n",
              "}\n",
              "#T_6377e_row7_col1, #T_6377e_row7_col5 {\n",
              "  background-color: #eef666;\n",
              "  color: #000000;\n",
              "}\n",
              "#T_6377e_row7_col2 {\n",
              "  background-color: #ebf566;\n",
              "  color: #000000;\n",
              "}\n",
              "#T_6377e_row7_col3, #T_6377e_row7_col6 {\n",
              "  background-color: #f0f866;\n",
              "  color: #000000;\n",
              "}\n",
              "#T_6377e_row7_col4 {\n",
              "  background-color: #ecf666;\n",
              "  color: #000000;\n",
              "}\n",
              "#T_6377e_row8_col1 {\n",
              "  background-color: #fefe66;\n",
              "  color: #000000;\n",
              "}\n",
              "#T_6377e_row9_col0 {\n",
              "  background-color: #9ece66;\n",
              "  color: #000000;\n",
              "}\n",
              "#T_6377e_row9_col1 {\n",
              "  background-color: #cbe566;\n",
              "  color: #000000;\n",
              "}\n",
              "#T_6377e_row9_col3, #T_6377e_row9_col4 {\n",
              "  background-color: #c9e466;\n",
              "  color: #000000;\n",
              "}\n",
              "#T_6377e_row9_col5 {\n",
              "  background-color: #9acc66;\n",
              "  color: #000000;\n",
              "}\n",
              "#T_6377e_row9_col6 {\n",
              "  background-color: #a6d266;\n",
              "  color: #000000;\n",
              "}\n",
              "#T_6377e_row10_col0, #T_6377e_row10_col1, #T_6377e_row10_col2, #T_6377e_row10_col3, #T_6377e_row10_col4, #T_6377e_row10_col5, #T_6377e_row10_col6 {\n",
              "  background-color: #008066;\n",
              "  color: #f1f1f1;\n",
              "}\n",
              "#T_6377e_row11_col0 {\n",
              "  background-color: #a3d166;\n",
              "  color: #000000;\n",
              "}\n",
              "#T_6377e_row11_col1 {\n",
              "  background-color: #b3d966;\n",
              "  color: #000000;\n",
              "}\n",
              "#T_6377e_row11_col2 {\n",
              "  background-color: #aad466;\n",
              "  color: #000000;\n",
              "}\n",
              "#T_6377e_row11_col3 {\n",
              "  background-color: #b7db66;\n",
              "  color: #000000;\n",
              "}\n",
              "#T_6377e_row11_col4 {\n",
              "  background-color: #badc66;\n",
              "  color: #000000;\n",
              "}\n",
              "#T_6377e_row11_col5 {\n",
              "  background-color: #a9d466;\n",
              "  color: #000000;\n",
              "}\n",
              "#T_6377e_row11_col6 {\n",
              "  background-color: #b5da66;\n",
              "  color: #000000;\n",
              "}\n",
              "</style>\n",
              "<table id=\"T_6377e_\">\n",
              "  <thead>\n",
              "    <tr>\n",
              "      <th class=\"blank\" >&nbsp;</th>\n",
              "      <th class=\"index_name level0\" >Market</th>\n",
              "      <th class=\"col_heading level0 col0\" >APAC</th>\n",
              "      <th class=\"col_heading level0 col1\" >Africa</th>\n",
              "      <th class=\"col_heading level0 col2\" >Canada</th>\n",
              "      <th class=\"col_heading level0 col3\" >EMEA</th>\n",
              "      <th class=\"col_heading level0 col4\" >EU</th>\n",
              "      <th class=\"col_heading level0 col5\" >LATAM</th>\n",
              "      <th class=\"col_heading level0 col6\" >US</th>\n",
              "    </tr>\n",
              "    <tr>\n",
              "      <th class=\"index_name level0\" >Order Priority</th>\n",
              "      <th class=\"index_name level1\" >Category</th>\n",
              "      <th class=\"blank col0\" >&nbsp;</th>\n",
              "      <th class=\"blank col1\" >&nbsp;</th>\n",
              "      <th class=\"blank col2\" >&nbsp;</th>\n",
              "      <th class=\"blank col3\" >&nbsp;</th>\n",
              "      <th class=\"blank col4\" >&nbsp;</th>\n",
              "      <th class=\"blank col5\" >&nbsp;</th>\n",
              "      <th class=\"blank col6\" >&nbsp;</th>\n",
              "    </tr>\n",
              "  </thead>\n",
              "  <tbody>\n",
              "    <tr>\n",
              "      <th id=\"T_6377e_level0_row0\" class=\"row_heading level0 row0\" rowspan=\"3\">Critical</th>\n",
              "      <th id=\"T_6377e_level1_row0\" class=\"row_heading level1 row0\" >Furniture</th>\n",
              "      <td id=\"T_6377e_row0_col0\" class=\"data row0 col0\" >176</td>\n",
              "      <td id=\"T_6377e_row0_col1\" class=\"data row0 col1\" >45</td>\n",
              "      <td id=\"T_6377e_row0_col2\" class=\"data row0 col2\" >6</td>\n",
              "      <td id=\"T_6377e_row0_col3\" class=\"data row0 col3\" >46</td>\n",
              "      <td id=\"T_6377e_row0_col4\" class=\"data row0 col4\" >115</td>\n",
              "      <td id=\"T_6377e_row0_col5\" class=\"data row0 col5\" >175</td>\n",
              "      <td id=\"T_6377e_row0_col6\" class=\"data row0 col6\" >159</td>\n",
              "    </tr>\n",
              "    <tr>\n",
              "      <th id=\"T_6377e_level1_row1\" class=\"row_heading level1 row1\" >Office Supplies</th>\n",
              "      <td id=\"T_6377e_row1_col0\" class=\"data row1 col0\" >473</td>\n",
              "      <td id=\"T_6377e_row1_col1\" class=\"data row1 col1\" >258</td>\n",
              "      <td id=\"T_6377e_row1_col2\" class=\"data row1 col2\" >27</td>\n",
              "      <td id=\"T_6377e_row1_col3\" class=\"data row1 col3\" >260</td>\n",
              "      <td id=\"T_6377e_row1_col4\" class=\"data row1 col4\" >515</td>\n",
              "      <td id=\"T_6377e_row1_col5\" class=\"data row1 col5\" >435</td>\n",
              "      <td id=\"T_6377e_row1_col6\" class=\"data row1 col6\" >478</td>\n",
              "    </tr>\n",
              "    <tr>\n",
              "      <th id=\"T_6377e_level1_row2\" class=\"row_heading level1 row2\" >Technology</th>\n",
              "      <td id=\"T_6377e_row2_col0\" class=\"data row2 col0\" >176</td>\n",
              "      <td id=\"T_6377e_row2_col1\" class=\"data row2 col1\" >69</td>\n",
              "      <td id=\"T_6377e_row2_col2\" class=\"data row2 col2\" >4</td>\n",
              "      <td id=\"T_6377e_row2_col3\" class=\"data row2 col3\" >82</td>\n",
              "      <td id=\"T_6377e_row2_col4\" class=\"data row2 col4\" >142</td>\n",
              "      <td id=\"T_6377e_row2_col5\" class=\"data row2 col5\" >145</td>\n",
              "      <td id=\"T_6377e_row2_col6\" class=\"data row2 col6\" >146</td>\n",
              "    </tr>\n",
              "    <tr>\n",
              "      <th id=\"T_6377e_level0_row3\" class=\"row_heading level0 row3\" rowspan=\"3\">High</th>\n",
              "      <th id=\"T_6377e_level1_row3\" class=\"row_heading level1 row3\" >Furniture</th>\n",
              "      <td id=\"T_6377e_row3_col0\" class=\"data row3 col0\" >718</td>\n",
              "      <td id=\"T_6377e_row3_col1\" class=\"data row3 col1\" >188</td>\n",
              "      <td id=\"T_6377e_row3_col2\" class=\"data row3 col2\" >15</td>\n",
              "      <td id=\"T_6377e_row3_col3\" class=\"data row3 col3\" >240</td>\n",
              "      <td id=\"T_6377e_row3_col4\" class=\"data row3 col4\" >425</td>\n",
              "      <td id=\"T_6377e_row3_col5\" class=\"data row3 col5\" >694</td>\n",
              "      <td id=\"T_6377e_row3_col6\" class=\"data row3 col6\" >651</td>\n",
              "    </tr>\n",
              "    <tr>\n",
              "      <th id=\"T_6377e_level1_row4\" class=\"row_heading level1 row4\" >Office Supplies</th>\n",
              "      <td id=\"T_6377e_row4_col0\" class=\"data row4 col0\" >1882</td>\n",
              "      <td id=\"T_6377e_row4_col1\" class=\"data row4 col1\" >942</td>\n",
              "      <td id=\"T_6377e_row4_col2\" class=\"data row4 col2\" >99</td>\n",
              "      <td id=\"T_6377e_row4_col3\" class=\"data row4 col3\" >990</td>\n",
              "      <td id=\"T_6377e_row4_col4\" class=\"data row4 col4\" >1928</td>\n",
              "      <td id=\"T_6377e_row4_col5\" class=\"data row4 col5\" >1783</td>\n",
              "      <td id=\"T_6377e_row4_col6\" class=\"data row4 col6\" >1842</td>\n",
              "    </tr>\n",
              "    <tr>\n",
              "      <th id=\"T_6377e_level1_row5\" class=\"row_heading level1 row5\" >Technology</th>\n",
              "      <td id=\"T_6377e_row5_col0\" class=\"data row5 col0\" >760</td>\n",
              "      <td id=\"T_6377e_row5_col1\" class=\"data row5 col1\" >274</td>\n",
              "      <td id=\"T_6377e_row5_col2\" class=\"data row5 col2\" >14</td>\n",
              "      <td id=\"T_6377e_row5_col3\" class=\"data row5 col3\" >276</td>\n",
              "      <td id=\"T_6377e_row5_col4\" class=\"data row5 col4\" >561</td>\n",
              "      <td id=\"T_6377e_row5_col5\" class=\"data row5 col5\" >643</td>\n",
              "      <td id=\"T_6377e_row5_col6\" class=\"data row5 col6\" >576</td>\n",
              "    </tr>\n",
              "    <tr>\n",
              "      <th id=\"T_6377e_level0_row6\" class=\"row_heading level0 row6\" rowspan=\"3\">Low</th>\n",
              "      <th id=\"T_6377e_level1_row6\" class=\"row_heading level1 row6\" >Furniture</th>\n",
              "      <td id=\"T_6377e_row6_col0\" class=\"data row6 col0\" >106</td>\n",
              "      <td id=\"T_6377e_row6_col1\" class=\"data row6 col1\" >29</td>\n",
              "      <td id=\"T_6377e_row6_col2\" class=\"data row6 col2\" >0</td>\n",
              "      <td id=\"T_6377e_row6_col3\" class=\"data row6 col3\" >47</td>\n",
              "      <td id=\"T_6377e_row6_col4\" class=\"data row6 col4\" >83</td>\n",
              "      <td id=\"T_6377e_row6_col5\" class=\"data row6 col5\" >139</td>\n",
              "      <td id=\"T_6377e_row6_col6\" class=\"data row6 col6\" >73</td>\n",
              "    </tr>\n",
              "    <tr>\n",
              "      <th id=\"T_6377e_level1_row7\" class=\"row_heading level1 row7\" >Office Supplies</th>\n",
              "      <td id=\"T_6377e_row7_col0\" class=\"data row7 col0\" >244</td>\n",
              "      <td id=\"T_6377e_row7_col1\" class=\"data row7 col1\" >143</td>\n",
              "      <td id=\"T_6377e_row7_col2\" class=\"data row7 col2\" >11</td>\n",
              "      <td id=\"T_6377e_row7_col3\" class=\"data row7 col3\" >149</td>\n",
              "      <td id=\"T_6377e_row7_col4\" class=\"data row7 col4\" >359</td>\n",
              "      <td id=\"T_6377e_row7_col5\" class=\"data row7 col5\" >299</td>\n",
              "      <td id=\"T_6377e_row7_col6\" class=\"data row7 col6\" >282</td>\n",
              "    </tr>\n",
              "    <tr>\n",
              "      <th id=\"T_6377e_level1_row8\" class=\"row_heading level1 row8\" >Technology</th>\n",
              "      <td id=\"T_6377e_row8_col0\" class=\"data row8 col0\" >106</td>\n",
              "      <td id=\"T_6377e_row8_col1\" class=\"data row8 col1\" >41</td>\n",
              "      <td id=\"T_6377e_row8_col2\" class=\"data row8 col2\" >0</td>\n",
              "      <td id=\"T_6377e_row8_col3\" class=\"data row8 col3\" >40</td>\n",
              "      <td id=\"T_6377e_row8_col4\" class=\"data row8 col4\" >114</td>\n",
              "      <td id=\"T_6377e_row8_col5\" class=\"data row8 col5\" >82</td>\n",
              "      <td id=\"T_6377e_row8_col6\" class=\"data row8 col6\" >77</td>\n",
              "    </tr>\n",
              "    <tr>\n",
              "      <th id=\"T_6377e_level0_row9\" class=\"row_heading level0 row9\" rowspan=\"3\">Medium</th>\n",
              "      <th id=\"T_6377e_level1_row9\" class=\"row_heading level1 row9\" >Furniture</th>\n",
              "      <td id=\"T_6377e_row9_col0\" class=\"data row9 col0\" >1429</td>\n",
              "      <td id=\"T_6377e_row9_col1\" class=\"data row9 col1\" >369</td>\n",
              "      <td id=\"T_6377e_row9_col2\" class=\"data row9 col2\" >21</td>\n",
              "      <td id=\"T_6377e_row9_col3\" class=\"data row9 col3\" >437</td>\n",
              "      <td id=\"T_6377e_row9_col4\" class=\"data row9 col4\" >878</td>\n",
              "      <td id=\"T_6377e_row9_col5\" class=\"data row9 col5\" >1374</td>\n",
              "      <td id=\"T_6377e_row9_col6\" class=\"data row9 col6\" >1238</td>\n",
              "    </tr>\n",
              "    <tr>\n",
              "      <th id=\"T_6377e_level1_row10\" class=\"row_heading level1 row10\" >Office Supplies</th>\n",
              "      <td id=\"T_6377e_row10_col0\" class=\"data row10 col0\" >3578</td>\n",
              "      <td id=\"T_6377e_row10_col1\" class=\"data row10 col1\" >1702</td>\n",
              "      <td id=\"T_6377e_row10_col2\" class=\"data row10 col2\" >140</td>\n",
              "      <td id=\"T_6377e_row10_col3\" class=\"data row10 col3\" >1898</td>\n",
              "      <td id=\"T_6377e_row10_col4\" class=\"data row10 col4\" >3787</td>\n",
              "      <td id=\"T_6377e_row10_col5\" class=\"data row10 col5\" >3345</td>\n",
              "      <td id=\"T_6377e_row10_col6\" class=\"data row10 col6\" >3424</td>\n",
              "    </tr>\n",
              "    <tr>\n",
              "      <th id=\"T_6377e_level1_row11\" class=\"row_heading level1 row11\" >Technology</th>\n",
              "      <td id=\"T_6377e_row11_col0\" class=\"data row11 col0\" >1354</td>\n",
              "      <td id=\"T_6377e_row11_col1\" class=\"data row11 col1\" >527</td>\n",
              "      <td id=\"T_6377e_row11_col2\" class=\"data row11 col2\" >47</td>\n",
              "      <td id=\"T_6377e_row11_col3\" class=\"data row11 col3\" >564</td>\n",
              "      <td id=\"T_6377e_row11_col4\" class=\"data row11 col4\" >1093</td>\n",
              "      <td id=\"T_6377e_row11_col5\" class=\"data row11 col5\" >1180</td>\n",
              "      <td id=\"T_6377e_row11_col6\" class=\"data row11 col6\" >1048</td>\n",
              "    </tr>\n",
              "  </tbody>\n",
              "</table>\n"
            ],
            "text/plain": [
              "<pandas.io.formats.style.Styler at 0x20ab9ba1850>"
            ]
          },
          "execution_count": 30,
          "metadata": {},
          "output_type": "execute_result"
        }
      ],
      "source": [
        "pd.crosstab([df[\"Order Priority\"],df[\"Category\"]],[df[\"Market\"]]).style.background_gradient(cmap=\"summer_r\")"
      ]
    },
    {
      "cell_type": "code",
      "execution_count": null,
      "id": "1f47f46b",
      "metadata": {
        "id": "1f47f46b",
        "outputId": "17172fbe-565b-41a2-a96d-92b32ee9f953"
      },
      "outputs": [
        {
          "data": {
            "text/html": [
              "<div>\n",
              "<style scoped>\n",
              "    .dataframe tbody tr th:only-of-type {\n",
              "        vertical-align: middle;\n",
              "    }\n",
              "\n",
              "    .dataframe tbody tr th {\n",
              "        vertical-align: top;\n",
              "    }\n",
              "\n",
              "    .dataframe thead th {\n",
              "        text-align: right;\n",
              "    }\n",
              "</style>\n",
              "<table border=\"1\" class=\"dataframe\">\n",
              "  <thead>\n",
              "    <tr style=\"text-align: right;\">\n",
              "      <th></th>\n",
              "      <th>Row ID</th>\n",
              "      <th>Order ID</th>\n",
              "      <th>Order Date</th>\n",
              "      <th>Delivary  Date</th>\n",
              "      <th>Ship Mode</th>\n",
              "      <th>Customer ID</th>\n",
              "      <th>Customer Name</th>\n",
              "      <th>Segment</th>\n",
              "      <th>City</th>\n",
              "      <th>State</th>\n",
              "      <th>Country</th>\n",
              "      <th>Postal Code</th>\n",
              "      <th>Market</th>\n",
              "      <th>Region</th>\n",
              "      <th>Product ID</th>\n",
              "      <th>Category</th>\n",
              "      <th>Sub-Category</th>\n",
              "      <th>Product Name</th>\n",
              "      <th>Sales</th>\n",
              "      <th>Quantity</th>\n",
              "      <th>Discount</th>\n",
              "      <th>Profit</th>\n",
              "      <th>Shipping Cost</th>\n",
              "      <th>Order Priority</th>\n",
              "    </tr>\n",
              "  </thead>\n",
              "  <tbody>\n",
              "    <tr>\n",
              "      <th>0</th>\n",
              "      <td>42433</td>\n",
              "      <td>AG-2011-2040</td>\n",
              "      <td>01-01-2011</td>\n",
              "      <td>06-01-2011</td>\n",
              "      <td>Standard Class</td>\n",
              "      <td>TB-11280</td>\n",
              "      <td>Toby Braunhardt</td>\n",
              "      <td>Consumer</td>\n",
              "      <td>Constantine</td>\n",
              "      <td>Constantine</td>\n",
              "      <td>Algeria</td>\n",
              "      <td>NaN</td>\n",
              "      <td>Africa</td>\n",
              "      <td>Africa</td>\n",
              "      <td>OFF-TEN-10000025</td>\n",
              "      <td>Office Supplies</td>\n",
              "      <td>Storage</td>\n",
              "      <td>Tenex Lockers, Blue</td>\n",
              "      <td>408.3</td>\n",
              "      <td>2</td>\n",
              "      <td>0.0</td>\n",
              "      <td>106.14</td>\n",
              "      <td>35.46</td>\n",
              "      <td>Medium</td>\n",
              "    </tr>\n",
              "  </tbody>\n",
              "</table>\n",
              "</div>"
            ],
            "text/plain": [
              "   Row ID      Order ID  Order Date Delivary  Date       Ship Mode  \\\n",
              "0   42433  AG-2011-2040  01-01-2011     06-01-2011  Standard Class   \n",
              "\n",
              "  Customer ID    Customer Name   Segment         City        State  Country  \\\n",
              "0    TB-11280  Toby Braunhardt  Consumer  Constantine  Constantine  Algeria   \n",
              "\n",
              "   Postal Code  Market  Region        Product ID         Category  \\\n",
              "0          NaN  Africa  Africa  OFF-TEN-10000025  Office Supplies   \n",
              "\n",
              "  Sub-Category         Product Name  Sales  Quantity  Discount  Profit  \\\n",
              "0      Storage  Tenex Lockers, Blue  408.3         2       0.0  106.14   \n",
              "\n",
              "   Shipping Cost Order Priority  \n",
              "0          35.46         Medium  "
            ]
          },
          "execution_count": 31,
          "metadata": {},
          "output_type": "execute_result"
        }
      ],
      "source": [
        "df.head(1)"
      ]
    },
    {
      "cell_type": "code",
      "execution_count": null,
      "id": "83eef904",
      "metadata": {
        "id": "83eef904",
        "outputId": "dc50d80f-a300-45eb-a4de-ae8a5f98f642"
      },
      "outputs": [
        {
          "data": {
            "image/png": "[encoded data removed]",
            "text/plain": [
              "<Figure size 432x288 with 1 Axes>"
            ]
          },
          "metadata": {
            "needs_background": "light"
          },
          "output_type": "display_data"
        }
      ],
      "source": [
        "m=df.groupby(\"City\")[\"Order ID\"].count()\n",
        "p=sorted(m)\n",
        "p[len(p)-5]\n",
        "t=m[m.values>p[len(p)-5]]\n",
        "plt.bar(t.keys(),t.values,color=[\"y\",\"red\",\"g\",\"k\"])\n",
        "plt.xticks(rotation=45,ha=\"right\")\n",
        "plt.show()"
      ]
    },
    {
      "cell_type": "markdown",
      "id": "a59c1583",
      "metadata": {
        "id": "a59c1583"
      },
      "source": [
        "Here I have printed the 4 highest sells cities and now we can say New York City is highest selling city among all cities "
      ]
    },
    {
      "cell_type": "code",
      "execution_count": null,
      "id": "74c36756",
      "metadata": {
        "id": "74c36756",
        "outputId": "ff526c72-8906-44f6-d878-4191e097cdc4"
      },
      "outputs": [
        {
          "data": {
            "image/png": "[encoded data removed]",
            "text/plain": [
              "<Figure size 432x288 with 1 Axes>"
            ]
          },
          "metadata": {
            "needs_background": "light"
          },
          "output_type": "display_data"
        }
      ],
      "source": [
        "m=df.groupby(\"Product Name\")[\"Row ID\"].count()\n",
        "p=sorted(m)\n",
        "p[len(p)-5]\n",
        "t=m[m.values>p[len(p)-5]]\n",
        "plt.bar(t.keys(),t.values,color=[\"y\",\"red\",\"g\",\"k\"])\n",
        "plt.xticks(rotation=45,ha=\"right\")\n",
        "plt.show()"
      ]
    },
    {
      "cell_type": "markdown",
      "id": "318dc418",
      "metadata": {
        "id": "318dc418"
      },
      "source": [
        "We have taken the assumption at the time of describing that staples is the highest selling product and now we can see from the graph our assumption is right ,staples is the highest selling product"
      ]
    },
    {
      "cell_type": "code",
      "execution_count": null,
      "id": "b0fcc460",
      "metadata": {
        "id": "b0fcc460",
        "outputId": "b0f6c57b-1884-4e37-f27f-e2e187e69587"
      },
      "outputs": [
        {
          "data": {
            "image/png": "[encoded data removed]",
            "text/plain": [
              "<Figure size 432x288 with 1 Axes>"
            ]
          },
          "metadata": {
            "needs_background": "light"
          },
          "output_type": "display_data"
        }
      ],
      "source": [
        "m=df.groupby(\"Customer Name\")[\"Row ID\"].count()\n",
        "p=sorted(m)\n",
        "p[len(p)-5]\n",
        "t=m[m.values>p[len(p)-6]]\n",
        "plt.barh(t.keys(),t.values,color=[\"y\",\"red\",\"g\",\"k\"])\n",
        "# plt.xticks(rotation=45,ha=\"right\")\n",
        "plt.show()"
      ]
    },
    {
      "cell_type": "markdown",
      "id": "3f8f2a96",
      "metadata": {
        "id": "3f8f2a96"
      },
      "source": [
        "we can clearly see from the graph that muhammed yedwab has purchase the products highest times from the amazon"
      ]
    },
    {
      "cell_type": "markdown",
      "id": "66a95c26",
      "metadata": {
        "id": "66a95c26"
      },
      "source": [
        "p=sorted(m)\n",
        "p[len(p)-5]"
      ]
    },
    {
      "cell_type": "code",
      "execution_count": null,
      "id": "81ed06d0",
      "metadata": {
        "id": "81ed06d0",
        "outputId": "2e7e9c78-e772-4235-bb09-7b075ac5183a"
      },
      "outputs": [
        {
          "data": {
            "text/plain": [
              "<AxesSubplot:xlabel='Segment', ylabel='count'>"
            ]
          },
          "execution_count": 35,
          "metadata": {},
          "output_type": "execute_result"
        },
        {
          "data": {
            "image/png": "[encoded data removed]",
            "text/plain": [
              "<Figure size 432x288 with 1 Axes>"
            ]
          },
          "metadata": {
            "needs_background": "light"
          },
          "output_type": "display_data"
        }
      ],
      "source": [
        "sn.countplot(data = df, x = 'Segment', hue = 'Ship Mode')"
      ]
    },
    {
      "cell_type": "markdown",
      "id": "8c2cff83",
      "metadata": {
        "id": "8c2cff83"
      },
      "source": [
        "In each segment mostly standard class shipping is used and thaere was very less chances was there that customer can get thier<br> ordered product on the same day"
      ]
    },
    {
      "cell_type": "code",
      "execution_count": null,
      "id": "f1c02b8b",
      "metadata": {
        "id": "f1c02b8b",
        "outputId": "e5c7cbd3-5300-4f00-91fe-d76ca14c6d6a"
      },
      "outputs": [
        {
          "data": {
            "image/png": "[encoded data removed]",
            "text/plain": [
              "<Figure size 720x432 with 1 Axes>"
            ]
          },
          "metadata": {
            "needs_background": "light"
          },
          "output_type": "display_data"
        }
      ],
      "source": [
        "cross_tab_prop = pd.crosstab(index = df['Segment'], columns = df['Category'], normalize = \"index\")\n",
        "cross_tab_prop.plot(kind='bar', stacked=True, colormap='gnuplot_r', figsize=(10, 6))\n",
        "plt.legend(loc=\"upper right\", ncol=2)\n",
        "plt.xlabel(\"Segment\")\n",
        "plt.ylabel(\"Category\")\n",
        "plt.show()"
      ]
    },
    {
      "cell_type": "code",
      "execution_count": null,
      "id": "5cfdcec2",
      "metadata": {
        "id": "5cfdcec2"
      },
      "outputs": [],
      "source": [
        "# 'tab0' is not a valid value for name; supported values are 'Accent', 'Accent_r', 'Blues', 'Blues_r', 'BrBG', 'BrBG_r', 'BuGn', 'BuGn_r', 'BuPu', 'BuPu_r', 'CMRmap', 'CMRmap_r', 'Dark2', 'Dark2_r', 'GnBu', 'GnBu_r', 'Greens', 'Greens_r', 'Greys', 'Greys_r', 'OrRd', 'OrRd_r', 'Oranges', 'Oranges_r', 'PRGn', 'PRGn_r', 'Paired', 'Paired_r', 'Pastel1', 'Pastel1_r', 'Pastel2', 'Pastel2_r', 'PiYG', 'PiYG_r', 'PuBu', 'PuBuGn', 'PuBuGn_r', 'PuBu_r', 'PuOr', 'PuOr_r', 'PuRd', 'PuRd_r', 'Purples', 'Purples_r', 'RdBu', 'RdBu_r', 'RdGy', 'RdGy_r', 'RdPu', 'RdPu_r', 'RdYlBu', 'RdYlBu_r', 'RdYlGn', 'RdYlGn_r', 'Reds', 'Reds_r', 'Set1', 'Set1_r', 'Set2', 'Set2_r', 'Set3', 'Set3_r', 'Spectral', 'Spectral_r', 'Wistia', 'Wistia_r', 'YlGn', 'YlGnBu', 'YlGnBu_r', 'YlGn_r', 'YlOrBr', 'YlOrBr_r', 'YlOrRd', 'YlOrRd_r', 'afmhot', 'afmhot_r', 'autumn', 'autumn_r', 'binary', 'binary_r', 'bone', 'bone_r', 'brg', 'brg_r', 'bwr', 'bwr_r', 'cividis', 'cividis_r', 'cool', 'cool_r', 'coolwarm', 'coolwarm_r', 'copper', 'copper_r', 'crest', 'crest_r', 'cubehelix', 'cubehelix_r', 'flag', 'flag_r', 'flare', 'flare_r', 'gist_earth', 'gist_earth_r', 'gist_gray', 'gist_gray_r', 'gist_heat', 'gist_heat_r', 'gist_ncar', 'gist_ncar_r', 'gist_rainbow', 'gist_rainbow_r', 'gist_stern', 'gist_stern_r', 'gist_yarg', 'gist_yarg_r', 'gnuplot', 'gnuplot2', 'gnuplot2_r', 'gnuplot_r', 'gray', 'gray_r', 'hot', 'hot_r', 'hsv', 'hsv_r', 'icefire', 'icefire_r', 'inferno', 'inferno_r', 'jet', 'jet_r', 'magma', 'magma_r', 'mako', 'mako_r', 'nipy_spectral', 'nipy_spectral_r', 'ocean', 'ocean_r', 'pink', 'pink_r', 'plasma', 'plasma_r', 'prism', 'prism_r', 'rainbow', 'rainbow_r', 'rocket', 'rocket_r', 'seismic', 'seismic_r', 'spring', 'spring_r', 'summer', 'summer_r', 'tab10', 'tab10_r', 'tab20', 'tab20_r', 'tab20b', 'tab20b_r', 'tab20c', 'tab20c_r', 'terrain', 'terrain_r', 'turbo', 'turbo_r', 'twilight', 'twilight_r', 'twilight_shifted', 'twilight_shifted_r', 'viridis', 'viridis_r', 'vlag', 'vlag_r', 'winter', 'winter_r'"
      ]
    },
    {
      "cell_type": "code",
      "execution_count": null,
      "id": "99b6aa94",
      "metadata": {
        "id": "99b6aa94",
        "outputId": "7eb82d01-5aae-4b5f-84b4-52e4e96c8e68"
      },
      "outputs": [
        {
          "data": {
            "image/png": "[encoded data removed]",
            "text/plain": [
              "<Figure size 648x432 with 1 Axes>"
            ]
          },
          "metadata": {
            "needs_background": "light"
          },
          "output_type": "display_data"
        }
      ],
      "source": [
        "plt.figure(figsize=(9,6))\n",
        "plt.scatter(df.Sales,df[\"Shipping Cost\"],color=\"green\")\n",
        "plt.show()"
      ]
    },
    {
      "cell_type": "markdown",
      "id": "8e2ee076",
      "metadata": {
        "id": "8e2ee076"
      },
      "source": [
        "Here I have plot a scatter plot in between the sales and the shipping cost <br>\n",
        "we can clearly see it doesnot matter that if the price is high then shipping cost will be high "
      ]
    },
    {
      "cell_type": "code",
      "execution_count": null,
      "id": "7f359341",
      "metadata": {
        "id": "7f359341",
        "outputId": "1c58c97a-708e-427a-a1d8-91ba05c0b6db"
      },
      "outputs": [
        {
          "data": {
            "text/plain": [
              "Text(0.5, 1.0, 'Sales in Category-Office Supplies')"
            ]
          },
          "execution_count": 39,
          "metadata": {},
          "output_type": "execute_result"
        },
        {
          "data": {
            "image/png": "[encoded data removed]",
            "text/plain": [
              "<Figure size 1440x576 with 3 Axes>"
            ]
          },
          "metadata": {
            "needs_background": "light"
          },
          "output_type": "display_data"
        }
      ],
      "source": [
        "f,ax = plt.subplots(1,3,figsize=(20,8))\n",
        "sn.distplot(df.loc[df['Category']==\"Furniture\",\"Sales\"],ax=ax[0])\n",
        "ax[0].set_title(\"Sales in Category-Furniture\")\n",
        "\n",
        "sn.distplot(df.loc[df['Category']==\"Technology\",\"Sales\"],ax=ax[1])\n",
        "ax[1].set_title(\"Sales in Category-Technology\")\n",
        "\n",
        "sn.distplot(df.loc[df['Category']==\"Office Supplies\",\"Sales\"],ax=ax[2])\n",
        "ax[2].set_title(\"Sales in Category-Office Supplies\")"
      ]
    },
    {
      "cell_type": "markdown",
      "id": "2baded86",
      "metadata": {
        "id": "2baded86"
      },
      "source": [
        "creating the new copy of the dataset for only the sell of 2011 because to analyse the data of 2011 "
      ]
    },
    {
      "cell_type": "code",
      "execution_count": null,
      "id": "91ba825b",
      "metadata": {
        "id": "91ba825b",
        "outputId": "79e419d9-367e-4258-9c77-53ddf0b23840"
      },
      "outputs": [
        {
          "data": {
            "text/html": [
              "<div>\n",
              "<style scoped>\n",
              "    .dataframe tbody tr th:only-of-type {\n",
              "        vertical-align: middle;\n",
              "    }\n",
              "\n",
              "    .dataframe tbody tr th {\n",
              "        vertical-align: top;\n",
              "    }\n",
              "\n",
              "    .dataframe thead th {\n",
              "        text-align: right;\n",
              "    }\n",
              "</style>\n",
              "<table border=\"1\" class=\"dataframe\">\n",
              "  <thead>\n",
              "    <tr style=\"text-align: right;\">\n",
              "      <th></th>\n",
              "      <th>Row ID</th>\n",
              "      <th>Order ID</th>\n",
              "      <th>Order Date</th>\n",
              "      <th>Delivary  Date</th>\n",
              "      <th>Ship Mode</th>\n",
              "      <th>Customer ID</th>\n",
              "      <th>Customer Name</th>\n",
              "      <th>Segment</th>\n",
              "      <th>City</th>\n",
              "      <th>State</th>\n",
              "      <th>Country</th>\n",
              "      <th>Postal Code</th>\n",
              "      <th>...</th>\n",
              "      <th>Product ID</th>\n",
              "      <th>Category</th>\n",
              "      <th>Sub-Category</th>\n",
              "      <th>Product Name</th>\n",
              "      <th>Sales</th>\n",
              "      <th>Quantity</th>\n",
              "      <th>Discount</th>\n",
              "      <th>Profit</th>\n",
              "      <th>Shipping Cost</th>\n",
              "      <th>Order Priority</th>\n",
              "      <th>order date</th>\n",
              "      <th>order month</th>\n",
              "    </tr>\n",
              "  </thead>\n",
              "  <tbody>\n",
              "    <tr>\n",
              "      <th>0</th>\n",
              "      <td>42433</td>\n",
              "      <td>AG-2011-2040</td>\n",
              "      <td>01-01-2011</td>\n",
              "      <td>06-01-2011</td>\n",
              "      <td>Standard Class</td>\n",
              "      <td>TB-11280</td>\n",
              "      <td>Toby Braunhardt</td>\n",
              "      <td>Consumer</td>\n",
              "      <td>Constantine</td>\n",
              "      <td>Constantine</td>\n",
              "      <td>Algeria</td>\n",
              "      <td>NaN</td>\n",
              "      <td>...</td>\n",
              "      <td>OFF-TEN-10000025</td>\n",
              "      <td>Office Supplies</td>\n",
              "      <td>Storage</td>\n",
              "      <td>Tenex Lockers, Blue</td>\n",
              "      <td>408.300</td>\n",
              "      <td>2</td>\n",
              "      <td>0.0</td>\n",
              "      <td>106.140</td>\n",
              "      <td>35.46</td>\n",
              "      <td>Medium</td>\n",
              "      <td>2011</td>\n",
              "      <td>01</td>\n",
              "    </tr>\n",
              "    <tr>\n",
              "      <th>1</th>\n",
              "      <td>22253</td>\n",
              "      <td>IN-2011-47883</td>\n",
              "      <td>01-01-2011</td>\n",
              "      <td>08-01-2011</td>\n",
              "      <td>Standard Class</td>\n",
              "      <td>JH-15985</td>\n",
              "      <td>Joseph Holt</td>\n",
              "      <td>Consumer</td>\n",
              "      <td>Wagga Wagga</td>\n",
              "      <td>New South Wales</td>\n",
              "      <td>Australia</td>\n",
              "      <td>NaN</td>\n",
              "      <td>...</td>\n",
              "      <td>OFF-SU-10000618</td>\n",
              "      <td>Office Supplies</td>\n",
              "      <td>Supplies</td>\n",
              "      <td>Acme Trimmer, High Speed</td>\n",
              "      <td>120.366</td>\n",
              "      <td>3</td>\n",
              "      <td>0.1</td>\n",
              "      <td>36.036</td>\n",
              "      <td>9.72</td>\n",
              "      <td>Medium</td>\n",
              "      <td>2011</td>\n",
              "      <td>01</td>\n",
              "    </tr>\n",
              "    <tr>\n",
              "      <th>2</th>\n",
              "      <td>48883</td>\n",
              "      <td>HU-2011-1220</td>\n",
              "      <td>01-01-2011</td>\n",
              "      <td>05-01-2011</td>\n",
              "      <td>Second Class</td>\n",
              "      <td>AT-735</td>\n",
              "      <td>Annie Thurman</td>\n",
              "      <td>Consumer</td>\n",
              "      <td>Budapest</td>\n",
              "      <td>Budapest</td>\n",
              "      <td>Hungary</td>\n",
              "      <td>NaN</td>\n",
              "      <td>...</td>\n",
              "      <td>OFF-TEN-10001585</td>\n",
              "      <td>Office Supplies</td>\n",
              "      <td>Storage</td>\n",
              "      <td>Tenex Box, Single Width</td>\n",
              "      <td>66.120</td>\n",
              "      <td>4</td>\n",
              "      <td>0.0</td>\n",
              "      <td>29.640</td>\n",
              "      <td>8.17</td>\n",
              "      <td>High</td>\n",
              "      <td>2011</td>\n",
              "      <td>01</td>\n",
              "    </tr>\n",
              "    <tr>\n",
              "      <th>3</th>\n",
              "      <td>11731</td>\n",
              "      <td>IT-2011-3647632</td>\n",
              "      <td>01-01-2011</td>\n",
              "      <td>05-01-2011</td>\n",
              "      <td>Second Class</td>\n",
              "      <td>EM-14140</td>\n",
              "      <td>Eugene Moren</td>\n",
              "      <td>Home Office</td>\n",
              "      <td>Stockholm</td>\n",
              "      <td>Stockholm</td>\n",
              "      <td>Sweden</td>\n",
              "      <td>NaN</td>\n",
              "      <td>...</td>\n",
              "      <td>OFF-PA-10001492</td>\n",
              "      <td>Office Supplies</td>\n",
              "      <td>Paper</td>\n",
              "      <td>Enermax Note Cards, Premium</td>\n",
              "      <td>44.865</td>\n",
              "      <td>3</td>\n",
              "      <td>0.5</td>\n",
              "      <td>-26.055</td>\n",
              "      <td>4.82</td>\n",
              "      <td>High</td>\n",
              "      <td>2011</td>\n",
              "      <td>01</td>\n",
              "    </tr>\n",
              "    <tr>\n",
              "      <th>4</th>\n",
              "      <td>22255</td>\n",
              "      <td>IN-2011-47883</td>\n",
              "      <td>01-01-2011</td>\n",
              "      <td>08-01-2011</td>\n",
              "      <td>Standard Class</td>\n",
              "      <td>JH-15985</td>\n",
              "      <td>Joseph Holt</td>\n",
              "      <td>Consumer</td>\n",
              "      <td>Wagga Wagga</td>\n",
              "      <td>New South Wales</td>\n",
              "      <td>Australia</td>\n",
              "      <td>NaN</td>\n",
              "      <td>...</td>\n",
              "      <td>FUR-FU-10003447</td>\n",
              "      <td>Furniture</td>\n",
              "      <td>Furnishings</td>\n",
              "      <td>Eldon Light Bulb, Duo Pack</td>\n",
              "      <td>113.670</td>\n",
              "      <td>5</td>\n",
              "      <td>0.1</td>\n",
              "      <td>37.770</td>\n",
              "      <td>4.70</td>\n",
              "      <td>Medium</td>\n",
              "      <td>2011</td>\n",
              "      <td>01</td>\n",
              "    </tr>\n",
              "  </tbody>\n",
              "</table>\n",
              "<p>5 rows × 26 columns</p>\n",
              "</div>"
            ],
            "text/plain": [
              "   Row ID         Order ID  Order Date Delivary  Date       Ship Mode  \\\n",
              "0   42433     AG-2011-2040  01-01-2011     06-01-2011  Standard Class   \n",
              "1   22253    IN-2011-47883  01-01-2011     08-01-2011  Standard Class   \n",
              "2   48883     HU-2011-1220  01-01-2011     05-01-2011    Second Class   \n",
              "3   11731  IT-2011-3647632  01-01-2011     05-01-2011    Second Class   \n",
              "4   22255    IN-2011-47883  01-01-2011     08-01-2011  Standard Class   \n",
              "\n",
              "  Customer ID    Customer Name      Segment         City            State  \\\n",
              "0    TB-11280  Toby Braunhardt     Consumer  Constantine      Constantine   \n",
              "1    JH-15985      Joseph Holt     Consumer  Wagga Wagga  New South Wales   \n",
              "2      AT-735    Annie Thurman     Consumer     Budapest         Budapest   \n",
              "3    EM-14140     Eugene Moren  Home Office    Stockholm        Stockholm   \n",
              "4    JH-15985      Joseph Holt     Consumer  Wagga Wagga  New South Wales   \n",
              "\n",
              "     Country  Postal Code  ...        Product ID         Category  \\\n",
              "0    Algeria          NaN  ...  OFF-TEN-10000025  Office Supplies   \n",
              "1  Australia          NaN  ...   OFF-SU-10000618  Office Supplies   \n",
              "2    Hungary          NaN  ...  OFF-TEN-10001585  Office Supplies   \n",
              "3     Sweden          NaN  ...   OFF-PA-10001492  Office Supplies   \n",
              "4  Australia          NaN  ...   FUR-FU-10003447        Furniture   \n",
              "\n",
              "  Sub-Category                 Product Name    Sales Quantity  Discount  \\\n",
              "0      Storage          Tenex Lockers, Blue  408.300        2       0.0   \n",
              "1     Supplies     Acme Trimmer, High Speed  120.366        3       0.1   \n",
              "2      Storage      Tenex Box, Single Width   66.120        4       0.0   \n",
              "3        Paper  Enermax Note Cards, Premium   44.865        3       0.5   \n",
              "4  Furnishings   Eldon Light Bulb, Duo Pack  113.670        5       0.1   \n",
              "\n",
              "    Profit  Shipping Cost  Order Priority  order date order month  \n",
              "0  106.140          35.46          Medium        2011          01  \n",
              "1   36.036           9.72          Medium        2011          01  \n",
              "2   29.640           8.17            High        2011          01  \n",
              "3  -26.055           4.82            High        2011          01  \n",
              "4   37.770           4.70          Medium        2011          01  \n",
              "\n",
              "[5 rows x 26 columns]"
            ]
          },
          "execution_count": 46,
          "metadata": {},
          "output_type": "execute_result"
        }
      ],
      "source": [
        "df1=df.copy()\n",
        "df1[\"order date\"]=df[\"Order Date\"].apply(lambda x : x.split(\"-\")[2])\n",
        "df2=np.where(df1[\"order date\"]==\"2011\")\n",
        "df3=df1.iloc[df2]\n",
        "df3\n",
        "df3[\"order month\"]=df3[\"Order Date\"].apply(lambda x : x.split(\"-\")[1])\n",
        "\n",
        "df3.head()"
      ]
    },
    {
      "cell_type": "markdown",
      "id": "0e3efd39",
      "metadata": {
        "id": "0e3efd39"
      },
      "source": [
        "I have created a new column order month for the evaluation of month wise sell"
      ]
    },
    {
      "cell_type": "code",
      "execution_count": null,
      "id": "7ccfaf74",
      "metadata": {
        "id": "7ccfaf74",
        "outputId": "d910b6f5-16be-42a4-98e8-07cdd099706e"
      },
      "outputs": [
        {
          "data": {
            "image/png": "[encoded data removed]",
            "text/plain": [
              "<Figure size 432x288 with 1 Axes>"
            ]
          },
          "metadata": {
            "needs_background": "light"
          },
          "output_type": "display_data"
        }
      ],
      "source": [
        "df3.groupby(\"order month\")[\"Row ID\"].count().plot.bar(colormap=\"viridis_r\")\n",
        "plt.title(\"Monthly Sales of 2011 \")\n",
        "plt.show()"
      ]
    },
    {
      "cell_type": "code",
      "execution_count": null,
      "id": "57a52dd8",
      "metadata": {
        "id": "57a52dd8",
        "outputId": "73d26441-ac7d-4a03-ca18-89744bf066b5"
      },
      "outputs": [
        {
          "data": {
            "text/html": [
              "<div>\n",
              "<style scoped>\n",
              "    .dataframe tbody tr th:only-of-type {\n",
              "        vertical-align: middle;\n",
              "    }\n",
              "\n",
              "    .dataframe tbody tr th {\n",
              "        vertical-align: top;\n",
              "    }\n",
              "\n",
              "    .dataframe thead th {\n",
              "        text-align: right;\n",
              "    }\n",
              "</style>\n",
              "<table border=\"1\" class=\"dataframe\">\n",
              "  <thead>\n",
              "    <tr style=\"text-align: right;\">\n",
              "      <th></th>\n",
              "      <th>Row ID</th>\n",
              "      <th>Order ID</th>\n",
              "      <th>Order Date</th>\n",
              "      <th>Delivary  Date</th>\n",
              "      <th>Ship Mode</th>\n",
              "      <th>Customer ID</th>\n",
              "      <th>Customer Name</th>\n",
              "      <th>Segment</th>\n",
              "      <th>City</th>\n",
              "      <th>State</th>\n",
              "      <th>Country</th>\n",
              "      <th>Postal Code</th>\n",
              "      <th>...</th>\n",
              "      <th>Product ID</th>\n",
              "      <th>Category</th>\n",
              "      <th>Sub-Category</th>\n",
              "      <th>Product Name</th>\n",
              "      <th>Sales</th>\n",
              "      <th>Quantity</th>\n",
              "      <th>Discount</th>\n",
              "      <th>Profit</th>\n",
              "      <th>Shipping Cost</th>\n",
              "      <th>Order Priority</th>\n",
              "      <th>order date</th>\n",
              "      <th>order month</th>\n",
              "    </tr>\n",
              "  </thead>\n",
              "  <tbody>\n",
              "    <tr>\n",
              "      <th>7795</th>\n",
              "      <td>22265</td>\n",
              "      <td>ID-2013-37383</td>\n",
              "      <td>01-01-2013</td>\n",
              "      <td>04-01-2013</td>\n",
              "      <td>First Class</td>\n",
              "      <td>MY-18295</td>\n",
              "      <td>Muhammed Yedwab</td>\n",
              "      <td>Corporate</td>\n",
              "      <td>Albury</td>\n",
              "      <td>New South Wales</td>\n",
              "      <td>Australia</td>\n",
              "      <td>NaN</td>\n",
              "      <td>...</td>\n",
              "      <td>TEC-CO-10002379</td>\n",
              "      <td>Technology</td>\n",
              "      <td>Copiers</td>\n",
              "      <td>Canon Copy Machine, Digital</td>\n",
              "      <td>1649.214</td>\n",
              "      <td>7</td>\n",
              "      <td>0.1</td>\n",
              "      <td>36.624</td>\n",
              "      <td>178.71</td>\n",
              "      <td>Medium</td>\n",
              "      <td>2013</td>\n",
              "      <td>01</td>\n",
              "    </tr>\n",
              "    <tr>\n",
              "      <th>7796</th>\n",
              "      <td>22618</td>\n",
              "      <td>IN-2013-47960</td>\n",
              "      <td>01-01-2013</td>\n",
              "      <td>06-01-2013</td>\n",
              "      <td>Standard Class</td>\n",
              "      <td>JE-15715</td>\n",
              "      <td>Joe Elijah</td>\n",
              "      <td>Consumer</td>\n",
              "      <td>Tianjin</td>\n",
              "      <td>Tianjin</td>\n",
              "      <td>China</td>\n",
              "      <td>NaN</td>\n",
              "      <td>...</td>\n",
              "      <td>FUR-BO-10003549</td>\n",
              "      <td>Furniture</td>\n",
              "      <td>Bookcases</td>\n",
              "      <td>Sauder Floating Shelf Set, Metal</td>\n",
              "      <td>1358.280</td>\n",
              "      <td>7</td>\n",
              "      <td>0.0</td>\n",
              "      <td>203.700</td>\n",
              "      <td>155.15</td>\n",
              "      <td>Medium</td>\n",
              "      <td>2013</td>\n",
              "      <td>01</td>\n",
              "    </tr>\n",
              "    <tr>\n",
              "      <th>7797</th>\n",
              "      <td>22268</td>\n",
              "      <td>ID-2013-37383</td>\n",
              "      <td>01-01-2013</td>\n",
              "      <td>04-01-2013</td>\n",
              "      <td>First Class</td>\n",
              "      <td>MY-18295</td>\n",
              "      <td>Muhammed Yedwab</td>\n",
              "      <td>Corporate</td>\n",
              "      <td>Albury</td>\n",
              "      <td>New South Wales</td>\n",
              "      <td>Australia</td>\n",
              "      <td>NaN</td>\n",
              "      <td>...</td>\n",
              "      <td>TEC-AC-10001500</td>\n",
              "      <td>Technology</td>\n",
              "      <td>Accessories</td>\n",
              "      <td>Logitech Memory Card, Erganomic</td>\n",
              "      <td>728.568</td>\n",
              "      <td>8</td>\n",
              "      <td>0.1</td>\n",
              "      <td>-32.472</td>\n",
              "      <td>143.97</td>\n",
              "      <td>Medium</td>\n",
              "      <td>2013</td>\n",
              "      <td>01</td>\n",
              "    </tr>\n",
              "    <tr>\n",
              "      <th>7798</th>\n",
              "      <td>22615</td>\n",
              "      <td>IN-2013-47960</td>\n",
              "      <td>01-01-2013</td>\n",
              "      <td>06-01-2013</td>\n",
              "      <td>Standard Class</td>\n",
              "      <td>JE-15715</td>\n",
              "      <td>Joe Elijah</td>\n",
              "      <td>Consumer</td>\n",
              "      <td>Tianjin</td>\n",
              "      <td>Tianjin</td>\n",
              "      <td>China</td>\n",
              "      <td>NaN</td>\n",
              "      <td>...</td>\n",
              "      <td>FUR-BO-10004541</td>\n",
              "      <td>Furniture</td>\n",
              "      <td>Bookcases</td>\n",
              "      <td>Dania Library with Doors, Mobile</td>\n",
              "      <td>2189.520</td>\n",
              "      <td>6</td>\n",
              "      <td>0.0</td>\n",
              "      <td>372.060</td>\n",
              "      <td>102.05</td>\n",
              "      <td>Medium</td>\n",
              "      <td>2013</td>\n",
              "      <td>01</td>\n",
              "    </tr>\n",
              "    <tr>\n",
              "      <th>7799</th>\n",
              "      <td>22617</td>\n",
              "      <td>IN-2013-47960</td>\n",
              "      <td>01-01-2013</td>\n",
              "      <td>06-01-2013</td>\n",
              "      <td>Standard Class</td>\n",
              "      <td>JE-15715</td>\n",
              "      <td>Joe Elijah</td>\n",
              "      <td>Consumer</td>\n",
              "      <td>Tianjin</td>\n",
              "      <td>Tianjin</td>\n",
              "      <td>China</td>\n",
              "      <td>NaN</td>\n",
              "      <td>...</td>\n",
              "      <td>FUR-BO-10003661</td>\n",
              "      <td>Furniture</td>\n",
              "      <td>Bookcases</td>\n",
              "      <td>Sauder Floating Shelf Set, Traditional</td>\n",
              "      <td>1362.060</td>\n",
              "      <td>7</td>\n",
              "      <td>0.0</td>\n",
              "      <td>340.410</td>\n",
              "      <td>90.86</td>\n",
              "      <td>Medium</td>\n",
              "      <td>2013</td>\n",
              "      <td>01</td>\n",
              "    </tr>\n",
              "  </tbody>\n",
              "</table>\n",
              "<p>5 rows × 26 columns</p>\n",
              "</div>"
            ],
            "text/plain": [
              "      Row ID       Order ID  Order Date Delivary  Date       Ship Mode  \\\n",
              "7795   22265  ID-2013-37383  01-01-2013     04-01-2013     First Class   \n",
              "7796   22618  IN-2013-47960  01-01-2013     06-01-2013  Standard Class   \n",
              "7797   22268  ID-2013-37383  01-01-2013     04-01-2013     First Class   \n",
              "7798   22615  IN-2013-47960  01-01-2013     06-01-2013  Standard Class   \n",
              "7799   22617  IN-2013-47960  01-01-2013     06-01-2013  Standard Class   \n",
              "\n",
              "     Customer ID    Customer Name    Segment     City            State  \\\n",
              "7795    MY-18295  Muhammed Yedwab  Corporate   Albury  New South Wales   \n",
              "7796    JE-15715       Joe Elijah   Consumer  Tianjin          Tianjin   \n",
              "7797    MY-18295  Muhammed Yedwab  Corporate   Albury  New South Wales   \n",
              "7798    JE-15715       Joe Elijah   Consumer  Tianjin          Tianjin   \n",
              "7799    JE-15715       Joe Elijah   Consumer  Tianjin          Tianjin   \n",
              "\n",
              "        Country  Postal Code  ...       Product ID    Category Sub-Category  \\\n",
              "7795  Australia          NaN  ...  TEC-CO-10002379  Technology      Copiers   \n",
              "7796      China          NaN  ...  FUR-BO-10003549   Furniture    Bookcases   \n",
              "7797  Australia          NaN  ...  TEC-AC-10001500  Technology  Accessories   \n",
              "7798      China          NaN  ...  FUR-BO-10004541   Furniture    Bookcases   \n",
              "7799      China          NaN  ...  FUR-BO-10003661   Furniture    Bookcases   \n",
              "\n",
              "                                Product Name     Sales Quantity  Discount  \\\n",
              "7795             Canon Copy Machine, Digital  1649.214        7       0.1   \n",
              "7796        Sauder Floating Shelf Set, Metal  1358.280        7       0.0   \n",
              "7797         Logitech Memory Card, Erganomic   728.568        8       0.1   \n",
              "7798        Dania Library with Doors, Mobile  2189.520        6       0.0   \n",
              "7799  Sauder Floating Shelf Set, Traditional  1362.060        7       0.0   \n",
              "\n",
              "       Profit  Shipping Cost  Order Priority  order date order month  \n",
              "7795   36.624         178.71          Medium        2013          01  \n",
              "7796  203.700         155.15          Medium        2013          01  \n",
              "7797  -32.472         143.97          Medium        2013          01  \n",
              "7798  372.060         102.05          Medium        2013          01  \n",
              "7799  340.410          90.86          Medium        2013          01  \n",
              "\n",
              "[5 rows x 26 columns]"
            ]
          },
          "execution_count": 50,
          "metadata": {},
          "output_type": "execute_result"
        }
      ],
      "source": [
        "df1=df.copy()\n",
        "df1[\"order date\"]=df[\"Order Date\"].apply(lambda x : x.split(\"-\")[2])\n",
        "df2=np.where(df1[\"order date\"]==\"2013\")\n",
        "df3=df1.iloc[df2]\n",
        "df3\n",
        "df3[\"order month\"]=df3[\"Order Date\"].apply(lambda x : x.split(\"-\")[1])\n",
        "\n",
        "df3.head()"
      ]
    },
    {
      "cell_type": "code",
      "execution_count": null,
      "id": "94630c44",
      "metadata": {
        "id": "94630c44",
        "outputId": "46a53ae7-b9e6-4df6-b404-f018b7322528"
      },
      "outputs": [
        {
          "data": {
            "image/png": "[encoded data removed]",
            "text/plain": [
              "<Figure size 432x288 with 1 Axes>"
            ]
          },
          "metadata": {
            "needs_background": "light"
          },
          "output_type": "display_data"
        }
      ],
      "source": [
        "df3.groupby(\"order month\")[\"Row ID\"].count().plot.bar(color=['m','g','r','b'])\n",
        "plt.title(\"Monthly Sales of 2013 \")\n",
        "plt.show()"
      ]
    },
    {
      "cell_type": "code",
      "execution_count": null,
      "id": "3cb2d72a",
      "metadata": {
        "id": "3cb2d72a",
        "outputId": "3dd38359-7996-4d9e-d580-b5dac5ecbe9f"
      },
      "outputs": [
        {
          "data": {
            "text/html": [
              "<div>\n",
              "<style scoped>\n",
              "    .dataframe tbody tr th:only-of-type {\n",
              "        vertical-align: middle;\n",
              "    }\n",
              "\n",
              "    .dataframe tbody tr th {\n",
              "        vertical-align: top;\n",
              "    }\n",
              "\n",
              "    .dataframe thead th {\n",
              "        text-align: right;\n",
              "    }\n",
              "</style>\n",
              "<table border=\"1\" class=\"dataframe\">\n",
              "  <thead>\n",
              "    <tr style=\"text-align: right;\">\n",
              "      <th></th>\n",
              "      <th>Row ID</th>\n",
              "      <th>Order ID</th>\n",
              "      <th>Order Date</th>\n",
              "      <th>Delivary  Date</th>\n",
              "      <th>Ship Mode</th>\n",
              "      <th>Customer ID</th>\n",
              "      <th>Customer Name</th>\n",
              "      <th>Segment</th>\n",
              "      <th>City</th>\n",
              "      <th>State</th>\n",
              "      <th>Country</th>\n",
              "      <th>Postal Code</th>\n",
              "      <th>...</th>\n",
              "      <th>Product ID</th>\n",
              "      <th>Category</th>\n",
              "      <th>Sub-Category</th>\n",
              "      <th>Product Name</th>\n",
              "      <th>Sales</th>\n",
              "      <th>Quantity</th>\n",
              "      <th>Discount</th>\n",
              "      <th>Profit</th>\n",
              "      <th>Shipping Cost</th>\n",
              "      <th>Order Priority</th>\n",
              "      <th>order date</th>\n",
              "      <th>order month</th>\n",
              "    </tr>\n",
              "  </thead>\n",
              "  <tbody>\n",
              "    <tr>\n",
              "      <th>13206</th>\n",
              "      <td>10407</td>\n",
              "      <td>ES-2014-2774938</td>\n",
              "      <td>01-01-2014</td>\n",
              "      <td>03-01-2014</td>\n",
              "      <td>Second Class</td>\n",
              "      <td>FH-14350</td>\n",
              "      <td>Fred Harton</td>\n",
              "      <td>Consumer</td>\n",
              "      <td>Pantin</td>\n",
              "      <td>Ile-de-France</td>\n",
              "      <td>France</td>\n",
              "      <td>NaN</td>\n",
              "      <td>...</td>\n",
              "      <td>TEC-MA-10001777</td>\n",
              "      <td>Technology</td>\n",
              "      <td>Machines</td>\n",
              "      <td>Okidata Printer, Red</td>\n",
              "      <td>677.4075</td>\n",
              "      <td>3</td>\n",
              "      <td>0.15</td>\n",
              "      <td>-111.6225</td>\n",
              "      <td>104.69</td>\n",
              "      <td>High</td>\n",
              "      <td>2014</td>\n",
              "      <td>01</td>\n",
              "    </tr>\n",
              "    <tr>\n",
              "      <th>13207</th>\n",
              "      <td>21092</td>\n",
              "      <td>IN-2014-47134</td>\n",
              "      <td>01-01-2014</td>\n",
              "      <td>05-01-2014</td>\n",
              "      <td>Standard Class</td>\n",
              "      <td>KN-16450</td>\n",
              "      <td>Kean Nguyen</td>\n",
              "      <td>Corporate</td>\n",
              "      <td>Melbourne</td>\n",
              "      <td>Victoria</td>\n",
              "      <td>Australia</td>\n",
              "      <td>NaN</td>\n",
              "      <td>...</td>\n",
              "      <td>TEC-MA-10002134</td>\n",
              "      <td>Technology</td>\n",
              "      <td>Machines</td>\n",
              "      <td>Konica Inkjet, Wireless</td>\n",
              "      <td>846.2880</td>\n",
              "      <td>3</td>\n",
              "      <td>0.10</td>\n",
              "      <td>46.9980</td>\n",
              "      <td>46.20</td>\n",
              "      <td>Medium</td>\n",
              "      <td>2014</td>\n",
              "      <td>01</td>\n",
              "    </tr>\n",
              "    <tr>\n",
              "      <th>13208</th>\n",
              "      <td>17503</td>\n",
              "      <td>IT-2014-4810734</td>\n",
              "      <td>01-01-2014</td>\n",
              "      <td>03-01-2014</td>\n",
              "      <td>Second Class</td>\n",
              "      <td>AS-10240</td>\n",
              "      <td>Alan Shonely</td>\n",
              "      <td>Consumer</td>\n",
              "      <td>Cergy</td>\n",
              "      <td>Ile-de-France</td>\n",
              "      <td>France</td>\n",
              "      <td>NaN</td>\n",
              "      <td>...</td>\n",
              "      <td>TEC-PH-10002586</td>\n",
              "      <td>Technology</td>\n",
              "      <td>Phones</td>\n",
              "      <td>Nokia Office Telephone, with Caller ID</td>\n",
              "      <td>332.1630</td>\n",
              "      <td>6</td>\n",
              "      <td>0.15</td>\n",
              "      <td>-43.1370</td>\n",
              "      <td>37.85</td>\n",
              "      <td>Critical</td>\n",
              "      <td>2014</td>\n",
              "      <td>01</td>\n",
              "    </tr>\n",
              "    <tr>\n",
              "      <th>13209</th>\n",
              "      <td>37638</td>\n",
              "      <td>US-2014-105830</td>\n",
              "      <td>01-01-2014</td>\n",
              "      <td>03-01-2014</td>\n",
              "      <td>First Class</td>\n",
              "      <td>DB-13660</td>\n",
              "      <td>Duane Benoit</td>\n",
              "      <td>Consumer</td>\n",
              "      <td>Lancaster</td>\n",
              "      <td>Ohio</td>\n",
              "      <td>United States</td>\n",
              "      <td>43130.0</td>\n",
              "      <td>...</td>\n",
              "      <td>OFF-ST-10002554</td>\n",
              "      <td>Office Supplies</td>\n",
              "      <td>Storage</td>\n",
              "      <td>Tennsco Industrial Shelving</td>\n",
              "      <td>156.5120</td>\n",
              "      <td>4</td>\n",
              "      <td>0.20</td>\n",
              "      <td>-35.2152</td>\n",
              "      <td>30.66</td>\n",
              "      <td>High</td>\n",
              "      <td>2014</td>\n",
              "      <td>01</td>\n",
              "    </tr>\n",
              "    <tr>\n",
              "      <th>13210</th>\n",
              "      <td>32450</td>\n",
              "      <td>CA-2014-160395</td>\n",
              "      <td>01-01-2014</td>\n",
              "      <td>07-01-2014</td>\n",
              "      <td>Standard Class</td>\n",
              "      <td>KL-16555</td>\n",
              "      <td>Kelly Lampkin</td>\n",
              "      <td>Corporate</td>\n",
              "      <td>Reno</td>\n",
              "      <td>Nevada</td>\n",
              "      <td>United States</td>\n",
              "      <td>89502.0</td>\n",
              "      <td>...</td>\n",
              "      <td>OFF-BI-10003984</td>\n",
              "      <td>Office Supplies</td>\n",
              "      <td>Binders</td>\n",
              "      <td>Lock-Up Easel 'Spel-Binder'</td>\n",
              "      <td>159.7680</td>\n",
              "      <td>7</td>\n",
              "      <td>0.20</td>\n",
              "      <td>53.9217</td>\n",
              "      <td>26.90</td>\n",
              "      <td>Low</td>\n",
              "      <td>2014</td>\n",
              "      <td>01</td>\n",
              "    </tr>\n",
              "  </tbody>\n",
              "</table>\n",
              "<p>5 rows × 26 columns</p>\n",
              "</div>"
            ],
            "text/plain": [
              "       Row ID         Order ID  Order Date Delivary  Date       Ship Mode  \\\n",
              "13206   10407  ES-2014-2774938  01-01-2014     03-01-2014    Second Class   \n",
              "13207   21092    IN-2014-47134  01-01-2014     05-01-2014  Standard Class   \n",
              "13208   17503  IT-2014-4810734  01-01-2014     03-01-2014    Second Class   \n",
              "13209   37638   US-2014-105830  01-01-2014     03-01-2014     First Class   \n",
              "13210   32450   CA-2014-160395  01-01-2014     07-01-2014  Standard Class   \n",
              "\n",
              "      Customer ID  Customer Name    Segment       City          State  \\\n",
              "13206    FH-14350    Fred Harton   Consumer     Pantin  Ile-de-France   \n",
              "13207    KN-16450    Kean Nguyen  Corporate  Melbourne       Victoria   \n",
              "13208    AS-10240   Alan Shonely   Consumer      Cergy  Ile-de-France   \n",
              "13209    DB-13660   Duane Benoit   Consumer  Lancaster           Ohio   \n",
              "13210    KL-16555  Kelly Lampkin  Corporate       Reno         Nevada   \n",
              "\n",
              "             Country  Postal Code  ...       Product ID         Category  \\\n",
              "13206         France          NaN  ...  TEC-MA-10001777       Technology   \n",
              "13207      Australia          NaN  ...  TEC-MA-10002134       Technology   \n",
              "13208         France          NaN  ...  TEC-PH-10002586       Technology   \n",
              "13209  United States      43130.0  ...  OFF-ST-10002554  Office Supplies   \n",
              "13210  United States      89502.0  ...  OFF-BI-10003984  Office Supplies   \n",
              "\n",
              "      Sub-Category                            Product Name     Sales Quantity  \\\n",
              "13206     Machines                    Okidata Printer, Red  677.4075        3   \n",
              "13207     Machines                 Konica Inkjet, Wireless  846.2880        3   \n",
              "13208       Phones  Nokia Office Telephone, with Caller ID  332.1630        6   \n",
              "13209      Storage             Tennsco Industrial Shelving  156.5120        4   \n",
              "13210      Binders             Lock-Up Easel 'Spel-Binder'  159.7680        7   \n",
              "\n",
              "       Discount    Profit  Shipping Cost  Order Priority  order date  \\\n",
              "13206      0.15 -111.6225         104.69            High        2014   \n",
              "13207      0.10   46.9980          46.20          Medium        2014   \n",
              "13208      0.15  -43.1370          37.85        Critical        2014   \n",
              "13209      0.20  -35.2152          30.66            High        2014   \n",
              "13210      0.20   53.9217          26.90             Low        2014   \n",
              "\n",
              "      order month  \n",
              "13206          01  \n",
              "13207          01  \n",
              "13208          01  \n",
              "13209          01  \n",
              "13210          01  \n",
              "\n",
              "[5 rows x 26 columns]"
            ]
          },
          "execution_count": 52,
          "metadata": {},
          "output_type": "execute_result"
        }
      ],
      "source": [
        "df1=df.copy()\n",
        "df1[\"order date\"]=df[\"Order Date\"].apply(lambda x : x.split(\"-\")[2])\n",
        "df2=np.where(df1[\"order date\"]==\"2014\")\n",
        "df3=df1.iloc[df2]\n",
        "df3\n",
        "df3[\"order month\"]=df3[\"Order Date\"].apply(lambda x : x.split(\"-\")[1])\n",
        "\n",
        "df3.head()"
      ]
    },
    {
      "cell_type": "code",
      "execution_count": null,
      "id": "4264e32d",
      "metadata": {
        "id": "4264e32d",
        "outputId": "44899be2-c0af-494f-9b9d-7acbc259f44a"
      },
      "outputs": [
        {
          "data": {
            "image/png": "[encoded data removed]",
            "text/plain": [
              "<Figure size 432x288 with 1 Axes>"
            ]
          },
          "metadata": {
            "needs_background": "light"
          },
          "output_type": "display_data"
        }
      ],
      "source": [
        "df3.groupby(\"order month\")[\"Row ID\"].count().plot.bar(colormap=\"twilight_shifted_r\")\n",
        "plt.title(\"Monthly Sales of 2014 \")\n",
        "plt.show()"
      ]
    },
    {
      "cell_type": "code",
      "execution_count": null,
      "id": "983e182b",
      "metadata": {
        "id": "983e182b"
      },
      "outputs": [],
      "source": []
    },
    {
      "cell_type": "code",
      "execution_count": null,
      "id": "3bd49652",
      "metadata": {
        "id": "3bd49652",
        "outputId": "150865f9-e119-43d6-a8c6-db78fa26937b"
      },
      "outputs": [
        {
          "data": {
            "text/html": [
              "<div>\n",
              "<style scoped>\n",
              "    .dataframe tbody tr th:only-of-type {\n",
              "        vertical-align: middle;\n",
              "    }\n",
              "\n",
              "    .dataframe tbody tr th {\n",
              "        vertical-align: top;\n",
              "    }\n",
              "\n",
              "    .dataframe thead th {\n",
              "        text-align: right;\n",
              "    }\n",
              "</style>\n",
              "<table border=\"1\" class=\"dataframe\">\n",
              "  <thead>\n",
              "    <tr style=\"text-align: right;\">\n",
              "      <th></th>\n",
              "      <th>Row ID</th>\n",
              "      <th>Order ID</th>\n",
              "      <th>Order Date</th>\n",
              "      <th>Delivary  Date</th>\n",
              "      <th>Ship Mode</th>\n",
              "      <th>Customer ID</th>\n",
              "      <th>Customer Name</th>\n",
              "      <th>Segment</th>\n",
              "      <th>City</th>\n",
              "      <th>State</th>\n",
              "      <th>Country</th>\n",
              "      <th>Postal Code</th>\n",
              "      <th>...</th>\n",
              "      <th>Product ID</th>\n",
              "      <th>Category</th>\n",
              "      <th>Sub-Category</th>\n",
              "      <th>Product Name</th>\n",
              "      <th>Sales</th>\n",
              "      <th>Quantity</th>\n",
              "      <th>Discount</th>\n",
              "      <th>Profit</th>\n",
              "      <th>Shipping Cost</th>\n",
              "      <th>Order Priority</th>\n",
              "      <th>order date</th>\n",
              "      <th>order month</th>\n",
              "    </tr>\n",
              "  </thead>\n",
              "  <tbody>\n",
              "    <tr>\n",
              "      <th>3549</th>\n",
              "      <td>21896</td>\n",
              "      <td>ID-2012-71858</td>\n",
              "      <td>01-02-2012</td>\n",
              "      <td>07-02-2012</td>\n",
              "      <td>Standard Class</td>\n",
              "      <td>CP-12085</td>\n",
              "      <td>Cathy Prescott</td>\n",
              "      <td>Corporate</td>\n",
              "      <td>Jakarta</td>\n",
              "      <td>Jakarta</td>\n",
              "      <td>Indonesia</td>\n",
              "      <td>NaN</td>\n",
              "      <td>...</td>\n",
              "      <td>TEC-PH-10003784</td>\n",
              "      <td>Technology</td>\n",
              "      <td>Phones</td>\n",
              "      <td>Motorola Signal Booster, with Caller ID</td>\n",
              "      <td>593.9895</td>\n",
              "      <td>5</td>\n",
              "      <td>0.17</td>\n",
              "      <td>-71.7105</td>\n",
              "      <td>52.22</td>\n",
              "      <td>Medium</td>\n",
              "      <td>2012</td>\n",
              "      <td>02</td>\n",
              "    </tr>\n",
              "    <tr>\n",
              "      <th>3550</th>\n",
              "      <td>4323</td>\n",
              "      <td>MX-2012-154459</td>\n",
              "      <td>01-02-2012</td>\n",
              "      <td>06-02-2012</td>\n",
              "      <td>Standard Class</td>\n",
              "      <td>JF-15190</td>\n",
              "      <td>Jamie Frazer</td>\n",
              "      <td>Consumer</td>\n",
              "      <td>Santiago</td>\n",
              "      <td>Santiago</td>\n",
              "      <td>Chile</td>\n",
              "      <td>NaN</td>\n",
              "      <td>...</td>\n",
              "      <td>TEC-PH-10002102</td>\n",
              "      <td>Technology</td>\n",
              "      <td>Phones</td>\n",
              "      <td>Nokia Headset, Cordless</td>\n",
              "      <td>151.9200</td>\n",
              "      <td>3</td>\n",
              "      <td>0.00</td>\n",
              "      <td>71.4000</td>\n",
              "      <td>32.94</td>\n",
              "      <td>High</td>\n",
              "      <td>2012</td>\n",
              "      <td>02</td>\n",
              "    </tr>\n",
              "    <tr>\n",
              "      <th>3551</th>\n",
              "      <td>2829</td>\n",
              "      <td>MX-2012-114461</td>\n",
              "      <td>01-02-2012</td>\n",
              "      <td>05-02-2012</td>\n",
              "      <td>Standard Class</td>\n",
              "      <td>RM-19375</td>\n",
              "      <td>Raymond Messe</td>\n",
              "      <td>Consumer</td>\n",
              "      <td>Escuintla</td>\n",
              "      <td>Escuintla</td>\n",
              "      <td>Guatemala</td>\n",
              "      <td>NaN</td>\n",
              "      <td>...</td>\n",
              "      <td>TEC-AC-10002760</td>\n",
              "      <td>Technology</td>\n",
              "      <td>Accessories</td>\n",
              "      <td>Memorex Memory Card, Erganomic</td>\n",
              "      <td>200.1600</td>\n",
              "      <td>3</td>\n",
              "      <td>0.00</td>\n",
              "      <td>0.0000</td>\n",
              "      <td>28.95</td>\n",
              "      <td>High</td>\n",
              "      <td>2012</td>\n",
              "      <td>02</td>\n",
              "    </tr>\n",
              "    <tr>\n",
              "      <th>3552</th>\n",
              "      <td>2828</td>\n",
              "      <td>MX-2012-114461</td>\n",
              "      <td>01-02-2012</td>\n",
              "      <td>05-02-2012</td>\n",
              "      <td>Standard Class</td>\n",
              "      <td>RM-19375</td>\n",
              "      <td>Raymond Messe</td>\n",
              "      <td>Consumer</td>\n",
              "      <td>Escuintla</td>\n",
              "      <td>Escuintla</td>\n",
              "      <td>Guatemala</td>\n",
              "      <td>NaN</td>\n",
              "      <td>...</td>\n",
              "      <td>FUR-CH-10001423</td>\n",
              "      <td>Furniture</td>\n",
              "      <td>Chairs</td>\n",
              "      <td>Harbour Creations Rocking Chair, Black</td>\n",
              "      <td>192.8800</td>\n",
              "      <td>2</td>\n",
              "      <td>0.00</td>\n",
              "      <td>54.0000</td>\n",
              "      <td>19.27</td>\n",
              "      <td>High</td>\n",
              "      <td>2012</td>\n",
              "      <td>02</td>\n",
              "    </tr>\n",
              "    <tr>\n",
              "      <th>3553</th>\n",
              "      <td>6762</td>\n",
              "      <td>MX-2012-151904</td>\n",
              "      <td>01-02-2012</td>\n",
              "      <td>03-02-2012</td>\n",
              "      <td>First Class</td>\n",
              "      <td>DJ-13420</td>\n",
              "      <td>Denny Joy</td>\n",
              "      <td>Corporate</td>\n",
              "      <td>Villa Canales</td>\n",
              "      <td>Guatemala</td>\n",
              "      <td>Guatemala</td>\n",
              "      <td>NaN</td>\n",
              "      <td>...</td>\n",
              "      <td>OFF-PA-10003571</td>\n",
              "      <td>Office Supplies</td>\n",
              "      <td>Paper</td>\n",
              "      <td>Enermax Cards &amp; Envelopes, Recycled</td>\n",
              "      <td>94.0200</td>\n",
              "      <td>3</td>\n",
              "      <td>0.00</td>\n",
              "      <td>1.8600</td>\n",
              "      <td>10.73</td>\n",
              "      <td>Medium</td>\n",
              "      <td>2012</td>\n",
              "      <td>02</td>\n",
              "    </tr>\n",
              "  </tbody>\n",
              "</table>\n",
              "<p>5 rows × 26 columns</p>\n",
              "</div>"
            ],
            "text/plain": [
              "      Row ID        Order ID  Order Date Delivary  Date       Ship Mode  \\\n",
              "3549   21896   ID-2012-71858  01-02-2012     07-02-2012  Standard Class   \n",
              "3550    4323  MX-2012-154459  01-02-2012     06-02-2012  Standard Class   \n",
              "3551    2829  MX-2012-114461  01-02-2012     05-02-2012  Standard Class   \n",
              "3552    2828  MX-2012-114461  01-02-2012     05-02-2012  Standard Class   \n",
              "3553    6762  MX-2012-151904  01-02-2012     03-02-2012     First Class   \n",
              "\n",
              "     Customer ID   Customer Name    Segment           City      State  \\\n",
              "3549    CP-12085  Cathy Prescott  Corporate        Jakarta    Jakarta   \n",
              "3550    JF-15190    Jamie Frazer   Consumer       Santiago   Santiago   \n",
              "3551    RM-19375   Raymond Messe   Consumer      Escuintla  Escuintla   \n",
              "3552    RM-19375   Raymond Messe   Consumer      Escuintla  Escuintla   \n",
              "3553    DJ-13420       Denny Joy  Corporate  Villa Canales  Guatemala   \n",
              "\n",
              "        Country  Postal Code  ...       Product ID         Category  \\\n",
              "3549  Indonesia          NaN  ...  TEC-PH-10003784       Technology   \n",
              "3550      Chile          NaN  ...  TEC-PH-10002102       Technology   \n",
              "3551  Guatemala          NaN  ...  TEC-AC-10002760       Technology   \n",
              "3552  Guatemala          NaN  ...  FUR-CH-10001423        Furniture   \n",
              "3553  Guatemala          NaN  ...  OFF-PA-10003571  Office Supplies   \n",
              "\n",
              "     Sub-Category                             Product Name     Sales Quantity  \\\n",
              "3549       Phones  Motorola Signal Booster, with Caller ID  593.9895        5   \n",
              "3550       Phones                  Nokia Headset, Cordless  151.9200        3   \n",
              "3551  Accessories           Memorex Memory Card, Erganomic  200.1600        3   \n",
              "3552       Chairs   Harbour Creations Rocking Chair, Black  192.8800        2   \n",
              "3553        Paper      Enermax Cards & Envelopes, Recycled   94.0200        3   \n",
              "\n",
              "      Discount   Profit  Shipping Cost  Order Priority  order date order month  \n",
              "3549      0.17 -71.7105          52.22          Medium        2012          02  \n",
              "3550      0.00  71.4000          32.94            High        2012          02  \n",
              "3551      0.00   0.0000          28.95            High        2012          02  \n",
              "3552      0.00  54.0000          19.27            High        2012          02  \n",
              "3553      0.00   1.8600          10.73          Medium        2012          02  \n",
              "\n",
              "[5 rows x 26 columns]"
            ]
          },
          "execution_count": 57,
          "metadata": {},
          "output_type": "execute_result"
        }
      ],
      "source": [
        "df1=df.copy()\n",
        "df1[\"order date\"]=df[\"Order Date\"].apply(lambda x : x.split(\"-\")[2])\n",
        "df2=np.where(df1[\"order date\"]==\"2012\")\n",
        "df3=df1.iloc[df2]\n",
        "df3\n",
        "df3[\"order month\"]=df3[\"Order Date\"].apply(lambda x : x.split(\"-\")[1])\n",
        "\n",
        "df3.head()"
      ]
    },
    {
      "cell_type": "code",
      "execution_count": null,
      "id": "96c2db5f",
      "metadata": {
        "id": "96c2db5f",
        "outputId": "163bf577-27a9-4c68-9f19-7eb8b7d47318"
      },
      "outputs": [
        {
          "data": {
            "image/png": "[encoded data removed]",
            "text/plain": [
              "<Figure size 432x288 with 1 Axes>"
            ]
          },
          "metadata": {
            "needs_background": "light"
          },
          "output_type": "display_data"
        }
      ],
      "source": [
        "df3.groupby(\"order month\")[\"Row ID\"].count().plot.bar(color=[\"k\",\"y\",\"c\",\"r\"])\n",
        "plt.title(\"Monthly Sales of 2012 \")\n",
        "plt.show()"
      ]
    },
    {
      "cell_type": "code",
      "execution_count": null,
      "id": "81404530",
      "metadata": {
        "id": "81404530"
      },
      "outputs": [],
      "source": []
    },
    {
      "cell_type": "code",
      "execution_count": null,
      "id": "a54e1f18",
      "metadata": {
        "id": "a54e1f18",
        "outputId": "feb3aa7f-3374-42c2-a732-243e2432eb12"
      },
      "outputs": [
        {
          "data": {
            "text/html": [
              "<div>\n",
              "<style scoped>\n",
              "    .dataframe tbody tr th:only-of-type {\n",
              "        vertical-align: middle;\n",
              "    }\n",
              "\n",
              "    .dataframe tbody tr th {\n",
              "        vertical-align: top;\n",
              "    }\n",
              "\n",
              "    .dataframe thead th {\n",
              "        text-align: right;\n",
              "    }\n",
              "</style>\n",
              "<table border=\"1\" class=\"dataframe\">\n",
              "  <thead>\n",
              "    <tr style=\"text-align: right;\">\n",
              "      <th></th>\n",
              "      <th>Row ID</th>\n",
              "      <th>Order ID</th>\n",
              "      <th>Order Date</th>\n",
              "      <th>Delivary  Date</th>\n",
              "      <th>Ship Mode</th>\n",
              "      <th>Customer ID</th>\n",
              "      <th>Customer Name</th>\n",
              "      <th>Segment</th>\n",
              "      <th>City</th>\n",
              "      <th>State</th>\n",
              "      <th>Country</th>\n",
              "      <th>Postal Code</th>\n",
              "      <th>...</th>\n",
              "      <th>Product ID</th>\n",
              "      <th>Category</th>\n",
              "      <th>Sub-Category</th>\n",
              "      <th>Product Name</th>\n",
              "      <th>Sales</th>\n",
              "      <th>Quantity</th>\n",
              "      <th>Discount</th>\n",
              "      <th>Profit</th>\n",
              "      <th>Shipping Cost</th>\n",
              "      <th>Order Priority</th>\n",
              "      <th>Date</th>\n",
              "      <th>Month</th>\n",
              "    </tr>\n",
              "  </thead>\n",
              "  <tbody>\n",
              "    <tr>\n",
              "      <th>0</th>\n",
              "      <td>42433</td>\n",
              "      <td>AG-2011-2040</td>\n",
              "      <td>01-01-2011</td>\n",
              "      <td>06-01-2011</td>\n",
              "      <td>Standard Class</td>\n",
              "      <td>TB-11280</td>\n",
              "      <td>Toby Braunhardt</td>\n",
              "      <td>Consumer</td>\n",
              "      <td>Constantine</td>\n",
              "      <td>Constantine</td>\n",
              "      <td>Algeria</td>\n",
              "      <td>NaN</td>\n",
              "      <td>...</td>\n",
              "      <td>OFF-TEN-10000025</td>\n",
              "      <td>Office Supplies</td>\n",
              "      <td>Storage</td>\n",
              "      <td>Tenex Lockers, Blue</td>\n",
              "      <td>408.3</td>\n",
              "      <td>2</td>\n",
              "      <td>0.0</td>\n",
              "      <td>106.14</td>\n",
              "      <td>35.46</td>\n",
              "      <td>Medium</td>\n",
              "      <td>2011-01-01</td>\n",
              "      <td>January</td>\n",
              "    </tr>\n",
              "  </tbody>\n",
              "</table>\n",
              "<p>1 rows × 26 columns</p>\n",
              "</div>"
            ],
            "text/plain": [
              "   Row ID      Order ID  Order Date Delivary  Date       Ship Mode  \\\n",
              "0   42433  AG-2011-2040  01-01-2011     06-01-2011  Standard Class   \n",
              "\n",
              "  Customer ID    Customer Name   Segment         City        State  Country  \\\n",
              "0    TB-11280  Toby Braunhardt  Consumer  Constantine  Constantine  Algeria   \n",
              "\n",
              "   Postal Code  ...        Product ID         Category Sub-Category  \\\n",
              "0          NaN  ...  OFF-TEN-10000025  Office Supplies      Storage   \n",
              "\n",
              "          Product Name  Sales Quantity  Discount  Profit  Shipping Cost  \\\n",
              "0  Tenex Lockers, Blue  408.3        2       0.0  106.14          35.46   \n",
              "\n",
              "   Order Priority       Date    Month  \n",
              "0          Medium 2011-01-01  January  \n",
              "\n",
              "[1 rows x 26 columns]"
            ]
          },
          "execution_count": 42,
          "metadata": {},
          "output_type": "execute_result"
        }
      ],
      "source": [
        "df.head(1)"
      ]
    },
    {
      "cell_type": "markdown",
      "id": "a1c43c6f",
      "metadata": {
        "id": "a1c43c6f"
      },
      "source": [
        "# agar order date and delivary date mai jayda antar hai to ye ho sakta hai ki warehouse door hai jyda"
      ]
    },
    {
      "cell_type": "code",
      "execution_count": null,
      "id": "ea580dc3",
      "metadata": {
        "id": "ea580dc3",
        "outputId": "7f3cd69a-e14b-4d16-8e7e-850445eae2de"
      },
      "outputs": [
        {
          "ename": "KeyError",
          "evalue": "'Delivary Date'",
          "output_type": "error",
          "traceback": [
            "\u001b[1;31m---------------------------------------------------------------------------\u001b[0m",
            "\u001b[1;31mKeyError\u001b[0m                                  Traceback (most recent call last)",
            "\u001b[1;32mH:\\python\\lib\\site-packages\\pandas\\core\\indexes\\base.py\u001b[0m in \u001b[0;36mget_loc\u001b[1;34m(self, key, method, tolerance)\u001b[0m\n\u001b[0;32m   3360\u001b[0m             \u001b[1;32mtry\u001b[0m\u001b[1;33m:\u001b[0m\u001b[1;33m\u001b[0m\u001b[1;33m\u001b[0m\u001b[0m\n\u001b[1;32m-> 3361\u001b[1;33m                 \u001b[1;32mreturn\u001b[0m \u001b[0mself\u001b[0m\u001b[1;33m.\u001b[0m\u001b[0m_engine\u001b[0m\u001b[1;33m.\u001b[0m\u001b[0mget_loc\u001b[0m\u001b[1;33m(\u001b[0m\u001b[0mcasted_key\u001b[0m\u001b[1;33m)\u001b[0m\u001b[1;33m\u001b[0m\u001b[1;33m\u001b[0m\u001b[0m\n\u001b[0m\u001b[0;32m   3362\u001b[0m             \u001b[1;32mexcept\u001b[0m \u001b[0mKeyError\u001b[0m \u001b[1;32mas\u001b[0m \u001b[0merr\u001b[0m\u001b[1;33m:\u001b[0m\u001b[1;33m\u001b[0m\u001b[1;33m\u001b[0m\u001b[0m\n",
            "\u001b[1;32mH:\\python\\lib\\site-packages\\pandas\\_libs\\index.pyx\u001b[0m in \u001b[0;36mpandas._libs.index.IndexEngine.get_loc\u001b[1;34m()\u001b[0m\n",
            "\u001b[1;32mH:\\python\\lib\\site-packages\\pandas\\_libs\\index.pyx\u001b[0m in \u001b[0;36mpandas._libs.index.IndexEngine.get_loc\u001b[1;34m()\u001b[0m\n",
            "\u001b[1;32mpandas\\_libs\\hashtable_class_helper.pxi\u001b[0m in \u001b[0;36mpandas._libs.hashtable.PyObjectHashTable.get_item\u001b[1;34m()\u001b[0m\n",
            "\u001b[1;32mpandas\\_libs\\hashtable_class_helper.pxi\u001b[0m in \u001b[0;36mpandas._libs.hashtable.PyObjectHashTable.get_item\u001b[1;34m()\u001b[0m\n",
            "\u001b[1;31mKeyError\u001b[0m: 'Delivary Date'",
            "\nThe above exception was the direct cause of the following exception:\n",
            "\u001b[1;31mKeyError\u001b[0m                                  Traceback (most recent call last)",
            "\u001b[1;32m~\\AppData\\Local\\Temp/ipykernel_12540/124995459.py\u001b[0m in \u001b[0;36m<module>\u001b[1;34m\u001b[0m\n\u001b[1;32m----> 1\u001b[1;33m \u001b[0mdf\u001b[0m\u001b[1;33m[\u001b[0m\u001b[1;34m\"delivary Duration\"\u001b[0m\u001b[1;33m]\u001b[0m\u001b[1;33m=\u001b[0m\u001b[0mdf\u001b[0m\u001b[1;33m[\u001b[0m\u001b[0mdf\u001b[0m\u001b[1;33m[\u001b[0m\u001b[1;34m\"Delivary Date\"\u001b[0m\u001b[1;33m]\u001b[0m\u001b[1;33m-\u001b[0m\u001b[0mdf\u001b[0m\u001b[1;33m[\u001b[0m\u001b[1;34m\"Order Date\"\u001b[0m\u001b[1;33m]\u001b[0m\u001b[1;33m]\u001b[0m\u001b[1;33m\u001b[0m\u001b[1;33m\u001b[0m\u001b[0m\n\u001b[0m\u001b[0;32m      2\u001b[0m \u001b[0mdf\u001b[0m\u001b[1;33m\u001b[0m\u001b[1;33m\u001b[0m\u001b[0m\n",
            "\u001b[1;32mH:\\python\\lib\\site-packages\\pandas\\core\\frame.py\u001b[0m in \u001b[0;36m__getitem__\u001b[1;34m(self, key)\u001b[0m\n\u001b[0;32m   3456\u001b[0m             \u001b[1;32mif\u001b[0m \u001b[0mself\u001b[0m\u001b[1;33m.\u001b[0m\u001b[0mcolumns\u001b[0m\u001b[1;33m.\u001b[0m\u001b[0mnlevels\u001b[0m \u001b[1;33m>\u001b[0m \u001b[1;36m1\u001b[0m\u001b[1;33m:\u001b[0m\u001b[1;33m\u001b[0m\u001b[1;33m\u001b[0m\u001b[0m\n\u001b[0;32m   3457\u001b[0m                 \u001b[1;32mreturn\u001b[0m \u001b[0mself\u001b[0m\u001b[1;33m.\u001b[0m\u001b[0m_getitem_multilevel\u001b[0m\u001b[1;33m(\u001b[0m\u001b[0mkey\u001b[0m\u001b[1;33m)\u001b[0m\u001b[1;33m\u001b[0m\u001b[1;33m\u001b[0m\u001b[0m\n\u001b[1;32m-> 3458\u001b[1;33m             \u001b[0mindexer\u001b[0m \u001b[1;33m=\u001b[0m \u001b[0mself\u001b[0m\u001b[1;33m.\u001b[0m\u001b[0mcolumns\u001b[0m\u001b[1;33m.\u001b[0m\u001b[0mget_loc\u001b[0m\u001b[1;33m(\u001b[0m\u001b[0mkey\u001b[0m\u001b[1;33m)\u001b[0m\u001b[1;33m\u001b[0m\u001b[1;33m\u001b[0m\u001b[0m\n\u001b[0m\u001b[0;32m   3459\u001b[0m             \u001b[1;32mif\u001b[0m \u001b[0mis_integer\u001b[0m\u001b[1;33m(\u001b[0m\u001b[0mindexer\u001b[0m\u001b[1;33m)\u001b[0m\u001b[1;33m:\u001b[0m\u001b[1;33m\u001b[0m\u001b[1;33m\u001b[0m\u001b[0m\n\u001b[0;32m   3460\u001b[0m                 \u001b[0mindexer\u001b[0m \u001b[1;33m=\u001b[0m \u001b[1;33m[\u001b[0m\u001b[0mindexer\u001b[0m\u001b[1;33m]\u001b[0m\u001b[1;33m\u001b[0m\u001b[1;33m\u001b[0m\u001b[0m\n",
            "\u001b[1;32mH:\\python\\lib\\site-packages\\pandas\\core\\indexes\\base.py\u001b[0m in \u001b[0;36mget_loc\u001b[1;34m(self, key, method, tolerance)\u001b[0m\n\u001b[0;32m   3361\u001b[0m                 \u001b[1;32mreturn\u001b[0m \u001b[0mself\u001b[0m\u001b[1;33m.\u001b[0m\u001b[0m_engine\u001b[0m\u001b[1;33m.\u001b[0m\u001b[0mget_loc\u001b[0m\u001b[1;33m(\u001b[0m\u001b[0mcasted_key\u001b[0m\u001b[1;33m)\u001b[0m\u001b[1;33m\u001b[0m\u001b[1;33m\u001b[0m\u001b[0m\n\u001b[0;32m   3362\u001b[0m             \u001b[1;32mexcept\u001b[0m \u001b[0mKeyError\u001b[0m \u001b[1;32mas\u001b[0m \u001b[0merr\u001b[0m\u001b[1;33m:\u001b[0m\u001b[1;33m\u001b[0m\u001b[1;33m\u001b[0m\u001b[0m\n\u001b[1;32m-> 3363\u001b[1;33m                 \u001b[1;32mraise\u001b[0m \u001b[0mKeyError\u001b[0m\u001b[1;33m(\u001b[0m\u001b[0mkey\u001b[0m\u001b[1;33m)\u001b[0m \u001b[1;32mfrom\u001b[0m \u001b[0merr\u001b[0m\u001b[1;33m\u001b[0m\u001b[1;33m\u001b[0m\u001b[0m\n\u001b[0m\u001b[0;32m   3364\u001b[0m \u001b[1;33m\u001b[0m\u001b[0m\n\u001b[0;32m   3365\u001b[0m         \u001b[1;32mif\u001b[0m \u001b[0mis_scalar\u001b[0m\u001b[1;33m(\u001b[0m\u001b[0mkey\u001b[0m\u001b[1;33m)\u001b[0m \u001b[1;32mand\u001b[0m \u001b[0misna\u001b[0m\u001b[1;33m(\u001b[0m\u001b[0mkey\u001b[0m\u001b[1;33m)\u001b[0m \u001b[1;32mand\u001b[0m \u001b[1;32mnot\u001b[0m \u001b[0mself\u001b[0m\u001b[1;33m.\u001b[0m\u001b[0mhasnans\u001b[0m\u001b[1;33m:\u001b[0m\u001b[1;33m\u001b[0m\u001b[1;33m\u001b[0m\u001b[0m\n",
            "\u001b[1;31mKeyError\u001b[0m: 'Delivary Date'"
          ]
        }
      ],
      "source": [
        "df[\"delivary Duration\"]=df[df[\"Delivary Date\"]-df[\"Order Date\"]]\n",
        "df"
      ]
    },
    {
      "cell_type": "code",
      "execution_count": null,
      "id": "d8199d57",
      "metadata": {
        "id": "d8199d57",
        "outputId": "4ba5dab5-a749-4c39-dd2b-24a106ea4534"
      },
      "outputs": [
        {
          "ename": "NameError",
          "evalue": "name 'month' is not defined",
          "output_type": "error",
          "traceback": [
            "\u001b[1;31m---------------------------------------------------------------------------\u001b[0m",
            "\u001b[1;31mNameError\u001b[0m                                 Traceback (most recent call last)",
            "\u001b[1;32m~\\AppData\\Local\\Temp/ipykernel_12540/3920552672.py\u001b[0m in \u001b[0;36m<module>\u001b[1;34m\u001b[0m\n\u001b[0;32m      1\u001b[0m \u001b[1;32mimport\u001b[0m \u001b[0mcalendar\u001b[0m\u001b[1;33m\u001b[0m\u001b[1;33m\u001b[0m\u001b[0m\n\u001b[1;32m----> 2\u001b[1;33m \u001b[0mmonth\u001b[0m\u001b[1;33m(\u001b[0m\u001b[1;34m\"01-05-2011\"\u001b[0m\u001b[1;33m)\u001b[0m\u001b[1;33m\u001b[0m\u001b[1;33m\u001b[0m\u001b[0m\n\u001b[0m",
            "\u001b[1;31mNameError\u001b[0m: name 'month' is not defined"
          ]
        }
      ],
      "source": [
        "import calendar\n",
        "month(\"01-05-2011\")"
      ]
    },
    {
      "cell_type": "code",
      "execution_count": null,
      "id": "7aaf1c3f",
      "metadata": {
        "id": "7aaf1c3f"
      },
      "outputs": [],
      "source": []
    }
  ],
  "metadata": {
    "kernelspec": {
      "display_name": "Python 3 (ipykernel)",
      "language": "python",
      "name": "python3"
    },
    "language_info": {
      "codemirror_mode": {
        "name": "ipython",
        "version": 3
      },
      "file_extension": ".py",
      "mimetype": "text/x-python",
      "name": "python",
      "nbconvert_exporter": "python",
      "pygments_lexer": "ipython3",
      "version": "3.9.7"
    },
    "colab": {
      "provenance": [],
      "include_colab_link": true
    }
  },
  "nbformat": 4,
  "nbformat_minor": 5
}